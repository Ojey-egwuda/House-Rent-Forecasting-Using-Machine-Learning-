{
 "cells": [
  {
   "cell_type": "markdown",
   "id": "95ee46db",
   "metadata": {},
   "source": [
    "# House Rent Forecasting Using Machine Learning: A Lagos State Perspective"
   ]
  },
  {
   "cell_type": "markdown",
   "id": "041efe8e",
   "metadata": {},
   "source": [
    "In the realm of real estate analytics, nurturing insights through house rent forecasting isn't merely a fiscal strategy; it's a blueprint for sustainable landlord-tenant relationships. A stitch in time, via predictive analytics powered by Machine Learning, saves on both vacancies and operational costs, laying the foundation for a lucrative rental portfolio."
   ]
  },
  {
   "cell_type": "markdown",
   "id": "2675eb63",
   "metadata": {},
   "source": [
    "# Introduction\n",
    "\n",
    "Understanding the rental dynamics in Lagos State is pivotal for both landlords and tenants, enabling them to make informed decisions and fostering a harmonious real estate landscape. The volatile nature of rent fluctuations and market shifts poses intricate challenges for both tenants and property owners. Anticipating these changes, holds the potential to be a game-changer.\n",
    "\n",
    "#### Optimizing Resource Allocation\n",
    "The ability to foresee alterations in rental patterns equips stakeholders with a proactive advantage, enabling optimal resource allocation and enhancing financial stability. Retaining tenants and ensuring steady occupancy levels are the cornerstones of a thriving property investment.\n",
    "\n",
    "#### Aim: Predicting House Rent Prices\n",
    "This project predicts house rent trends using Machine Learning, contributing to a refined real estate landscape. By unraveling the patterns within rent data, this initiative strives to provide a predictive framework guiding strategic decisions. Ultimately, it aims to cultivate a more efficient and sustainable rental market in Lagos State, benefiting both landlords and tenants."
   ]
  },
  {
   "cell_type": "code",
   "execution_count": 1,
   "id": "29f602d8",
   "metadata": {},
   "outputs": [],
   "source": [
    "# load the necesaary modules\n",
    "import pandas as pd\n",
    "import numpy as np\n",
    "import matplotlib.pyplot as plt\n",
    "import seaborn as sns\n",
    "%matplotlib inline\n",
    "\n",
    "\n",
    "import plotly.io as pio\n",
    "pio.renderers.default ='notebook'\n",
    "\n",
    "from sklearn import model_selection\n",
    "from sklearn import preprocessing\n",
    "from sklearn.model_selection import train_test_split, cross_validate\n",
    "from sklearn.linear_model import LinearRegression, Lasso, Ridge\n",
    "from sklearn.ensemble import RandomForestRegressor\n",
    "from sklearn.ensemble import GradientBoostingRegressor\n",
    "from sklearn.metrics import mean_absolute_error, mean_squared_error, r2_score\n",
    "from sklearn import ensemble"
   ]
  },
  {
   "cell_type": "code",
   "execution_count": 2,
   "id": "d8ffc0d4",
   "metadata": {},
   "outputs": [
    {
     "data": {
      "text/html": [
       "<div>\n",
       "<style scoped>\n",
       "    .dataframe tbody tr th:only-of-type {\n",
       "        vertical-align: middle;\n",
       "    }\n",
       "\n",
       "    .dataframe tbody tr th {\n",
       "        vertical-align: top;\n",
       "    }\n",
       "\n",
       "    .dataframe thead th {\n",
       "        text-align: right;\n",
       "    }\n",
       "</style>\n",
       "<table border=\"1\" class=\"dataframe\">\n",
       "  <thead>\n",
       "    <tr style=\"text-align: right;\">\n",
       "      <th></th>\n",
       "      <th>LOCATION</th>\n",
       "      <th>PRICE</th>\n",
       "      <th>DATE ADDED</th>\n",
       "      <th>BEDROOMS</th>\n",
       "      <th>BATHROOMS</th>\n",
       "      <th>TOILETS</th>\n",
       "      <th>HOUSE_TYPE_NEW</th>\n",
       "    </tr>\n",
       "  </thead>\n",
       "  <tbody>\n",
       "    <tr>\n",
       "      <th>0</th>\n",
       "      <td>Ikoyi</td>\n",
       "      <td>15000000.0</td>\n",
       "      <td>2022-08-12</td>\n",
       "      <td>3</td>\n",
       "      <td>3</td>\n",
       "      <td>4</td>\n",
       "      <td>HOUSE</td>\n",
       "    </tr>\n",
       "    <tr>\n",
       "      <th>1</th>\n",
       "      <td>Ikoyi</td>\n",
       "      <td>10000000.0</td>\n",
       "      <td>2022-08-12</td>\n",
       "      <td>3</td>\n",
       "      <td>3</td>\n",
       "      <td>4</td>\n",
       "      <td>FLAT / APARTMENT</td>\n",
       "    </tr>\n",
       "    <tr>\n",
       "      <th>2</th>\n",
       "      <td>Ikoyi</td>\n",
       "      <td>50000000.0</td>\n",
       "      <td>2022-08-12</td>\n",
       "      <td>5</td>\n",
       "      <td>5</td>\n",
       "      <td>6</td>\n",
       "      <td>HOUSE</td>\n",
       "    </tr>\n",
       "    <tr>\n",
       "      <th>3</th>\n",
       "      <td>Ikoyi</td>\n",
       "      <td>10000000.0</td>\n",
       "      <td>2022-08-10</td>\n",
       "      <td>3</td>\n",
       "      <td>3</td>\n",
       "      <td>4</td>\n",
       "      <td>FLAT / APARTMENT</td>\n",
       "    </tr>\n",
       "    <tr>\n",
       "      <th>4</th>\n",
       "      <td>Ikoyi</td>\n",
       "      <td>14000000.0</td>\n",
       "      <td>2022-08-10</td>\n",
       "      <td>3</td>\n",
       "      <td>3</td>\n",
       "      <td>4</td>\n",
       "      <td>FLAT / APARTMENT</td>\n",
       "    </tr>\n",
       "  </tbody>\n",
       "</table>\n",
       "</div>"
      ],
      "text/plain": [
       "  LOCATION       PRICE  DATE ADDED  BEDROOMS  BATHROOMS  TOILETS  \\\n",
       "0    Ikoyi  15000000.0  2022-08-12         3          3        4   \n",
       "1    Ikoyi  10000000.0  2022-08-12         3          3        4   \n",
       "2    Ikoyi  50000000.0  2022-08-12         5          5        6   \n",
       "3    Ikoyi  10000000.0  2022-08-10         3          3        4   \n",
       "4    Ikoyi  14000000.0  2022-08-10         3          3        4   \n",
       "\n",
       "     HOUSE_TYPE_NEW  \n",
       "0             HOUSE  \n",
       "1  FLAT / APARTMENT  \n",
       "2             HOUSE  \n",
       "3  FLAT / APARTMENT  \n",
       "4  FLAT / APARTMENT  "
      ]
     },
     "execution_count": 2,
     "metadata": {},
     "output_type": "execute_result"
    }
   ],
   "source": [
    "# loading dataset\n",
    "eko2 = pd.read_csv(\"newlagosrent.csv\")\n",
    "\n",
    "eko2.head()"
   ]
  },
  {
   "cell_type": "markdown",
   "id": "a898e4fd",
   "metadata": {},
   "source": [
    "# Dataset Description"
   ]
  },
  {
   "cell_type": "markdown",
   "id": "9754d069",
   "metadata": {},
   "source": [
    "The dataset provides comprehensive real estate information for properties located in Lagos State, Nigeria. Each entry in the dataset represents a property listing, and various attributes offer detailed insights into the characteristics of these properties.\n",
    "\n",
    "#### Property Details:\n",
    "\n",
    "Location: Specifies the particular area within Lagos where the property is situated.  \n",
    "Price: Represents the monetary value associated with the property listing, indicating the rental price.  \n",
    "Date Added: Denotes the date when the property listing was added to the dataset.  \n",
    "Bedrooms: Indicates the number of bedrooms present in the property.  \n",
    "Bathrooms: Specifies the number of bathrooms within the property.  \n",
    "Toilets: Represents the number of toilets available in the property.  \n",
    "House Type New: Categorizes the type of property, encompassing options such as 'HOUSE', 'FLAT / APARTMENT', 'DETACHED DUPLEX', 'TERRACED DUPLEX', 'BLOCKS OF FLATS', 'MAISONETTE', 'PENTHOUSE', 'MINI FLAT', 'SELF CONTAIN', 'APARTMENT', 'DETACHED BUNGALOW', 'TERRACED BUNGALOW', 'BOYS QUARTERS', 'STUDIO APARTMENT FLAT', 'BUNGALOW', 'TOWNHOUSE'.  \n",
    "\n",
    "This dataset proves invaluable for conducting analyses on real estate trends within Lagos State. It allows for exploration of the distribution of various property types and facilitates an understanding of the relationships between property features and their corresponding rental prices. The dataset can serve as a foundation for diverse data analysis and modeling tasks pertinent to the Lagos real estate market."
   ]
  },
  {
   "cell_type": "markdown",
   "id": "1b0a3fad",
   "metadata": {},
   "source": [
    "## Data Exploration and Preparation"
   ]
  },
  {
   "cell_type": "code",
   "execution_count": 3,
   "id": "9b1d49df",
   "metadata": {},
   "outputs": [
    {
     "name": "stdout",
     "output_type": "stream",
     "text": [
      "<class 'pandas.core.frame.DataFrame'>\n",
      "RangeIndex: 92846 entries, 0 to 92845\n",
      "Data columns (total 7 columns):\n",
      " #   Column          Non-Null Count  Dtype  \n",
      "---  ------          --------------  -----  \n",
      " 0   LOCATION        92846 non-null  object \n",
      " 1   PRICE           92846 non-null  float64\n",
      " 2   DATE ADDED      92846 non-null  object \n",
      " 3   BEDROOMS        92846 non-null  int64  \n",
      " 4   BATHROOMS       92846 non-null  int64  \n",
      " 5   TOILETS         92846 non-null  int64  \n",
      " 6   HOUSE_TYPE_NEW  92455 non-null  object \n",
      "dtypes: float64(1), int64(3), object(3)\n",
      "memory usage: 5.0+ MB\n"
     ]
    }
   ],
   "source": [
    "eko2.info()"
   ]
  },
  {
   "cell_type": "code",
   "execution_count": 4,
   "id": "63d56c76",
   "metadata": {},
   "outputs": [
    {
     "data": {
      "text/plain": [
       "LOCATION            0\n",
       "PRICE               0\n",
       "DATE ADDED          0\n",
       "BEDROOMS            0\n",
       "BATHROOMS           0\n",
       "TOILETS             0\n",
       "HOUSE_TYPE_NEW    391\n",
       "dtype: int64"
      ]
     },
     "execution_count": 4,
     "metadata": {},
     "output_type": "execute_result"
    }
   ],
   "source": [
    "eko2.isnull().sum()"
   ]
  },
  {
   "cell_type": "code",
   "execution_count": 5,
   "id": "d54ee06a",
   "metadata": {},
   "outputs": [],
   "source": [
    "eko2.dropna(inplace = True)"
   ]
  },
  {
   "cell_type": "code",
   "execution_count": 6,
   "id": "0b8bbae2",
   "metadata": {},
   "outputs": [
    {
     "data": {
      "text/plain": [
       "LOCATION          0\n",
       "PRICE             0\n",
       "DATE ADDED        0\n",
       "BEDROOMS          0\n",
       "BATHROOMS         0\n",
       "TOILETS           0\n",
       "HOUSE_TYPE_NEW    0\n",
       "dtype: int64"
      ]
     },
     "execution_count": 6,
     "metadata": {},
     "output_type": "execute_result"
    }
   ],
   "source": [
    "eko2.isnull().sum()"
   ]
  },
  {
   "cell_type": "code",
   "execution_count": 7,
   "id": "c427ca8d",
   "metadata": {},
   "outputs": [
    {
     "data": {
      "text/plain": [
       "array(['HOUSE', 'FLAT / APARTMENT', 'DETACHED DUPLEX', 'TERRACED DUPLEX',\n",
       "       'BLOCKS OF FLATS', 'MASSIONETTE', 'PENTHOUSE', 'MINI FLAT',\n",
       "       'SELF CONTAIN', 'APARTMENT', 'DETACHED BUNGALOW',\n",
       "       'TERRACED BUNGALOW', 'BOYS QUARTERS', 'STUDIO APARTMENT FLAT',\n",
       "       'BUNGALOW', 'TOWNHOUSE'], dtype=object)"
      ]
     },
     "execution_count": 7,
     "metadata": {},
     "output_type": "execute_result"
    }
   ],
   "source": [
    "# Checking the unique vaues in house type\n",
    "eko2['HOUSE_TYPE_NEW'].unique()"
   ]
  },
  {
   "cell_type": "code",
   "execution_count": 8,
   "id": "f8c5afbf",
   "metadata": {},
   "outputs": [
    {
     "data": {
      "text/plain": [
       "HOUSE_TYPE_NEW\n",
       "FLAT / APARTMENT         50074\n",
       "HOUSE                    16802\n",
       "MINI FLAT                 8631\n",
       "BLOCKS OF FLATS           4287\n",
       "DETACHED DUPLEX           4174\n",
       "SELF CONTAIN              2951\n",
       "TERRACED DUPLEX           2213\n",
       "APARTMENT                 2043\n",
       "PENTHOUSE                  491\n",
       "DETACHED BUNGALOW          383\n",
       "BOYS QUARTERS              148\n",
       "MASSIONETTE                127\n",
       "STUDIO APARTMENT FLAT       63\n",
       "TERRACED BUNGALOW           44\n",
       "BUNGALOW                    20\n",
       "TOWNHOUSE                    4\n",
       "Name: count, dtype: int64"
      ]
     },
     "execution_count": 8,
     "metadata": {},
     "output_type": "execute_result"
    }
   ],
   "source": [
    "eko2['HOUSE_TYPE_NEW'].value_counts()"
   ]
  },
  {
   "cell_type": "code",
   "execution_count": 9,
   "id": "2f11bdc9",
   "metadata": {},
   "outputs": [
    {
     "data": {
      "text/html": [
       "<div>\n",
       "<style scoped>\n",
       "    .dataframe tbody tr th:only-of-type {\n",
       "        vertical-align: middle;\n",
       "    }\n",
       "\n",
       "    .dataframe tbody tr th {\n",
       "        vertical-align: top;\n",
       "    }\n",
       "\n",
       "    .dataframe thead th {\n",
       "        text-align: right;\n",
       "    }\n",
       "</style>\n",
       "<table border=\"1\" class=\"dataframe\">\n",
       "  <thead>\n",
       "    <tr style=\"text-align: right;\">\n",
       "      <th></th>\n",
       "      <th>PRICE</th>\n",
       "      <th>BEDROOMS</th>\n",
       "      <th>BATHROOMS</th>\n",
       "      <th>TOILETS</th>\n",
       "    </tr>\n",
       "  </thead>\n",
       "  <tbody>\n",
       "    <tr>\n",
       "      <th>count</th>\n",
       "      <td>9.245500e+04</td>\n",
       "      <td>92455.000000</td>\n",
       "      <td>92455.000000</td>\n",
       "      <td>92455.000000</td>\n",
       "    </tr>\n",
       "    <tr>\n",
       "      <th>mean</th>\n",
       "      <td>2.488726e+07</td>\n",
       "      <td>2.610913</td>\n",
       "      <td>2.671884</td>\n",
       "      <td>3.147131</td>\n",
       "    </tr>\n",
       "    <tr>\n",
       "      <th>std</th>\n",
       "      <td>5.593194e+09</td>\n",
       "      <td>1.171996</td>\n",
       "      <td>1.227926</td>\n",
       "      <td>1.429911</td>\n",
       "    </tr>\n",
       "    <tr>\n",
       "      <th>min</th>\n",
       "      <td>0.000000e+00</td>\n",
       "      <td>1.000000</td>\n",
       "      <td>1.000000</td>\n",
       "      <td>1.000000</td>\n",
       "    </tr>\n",
       "    <tr>\n",
       "      <th>25%</th>\n",
       "      <td>6.000000e+05</td>\n",
       "      <td>2.000000</td>\n",
       "      <td>2.000000</td>\n",
       "      <td>2.000000</td>\n",
       "    </tr>\n",
       "    <tr>\n",
       "      <th>50%</th>\n",
       "      <td>1.200000e+06</td>\n",
       "      <td>3.000000</td>\n",
       "      <td>3.000000</td>\n",
       "      <td>3.000000</td>\n",
       "    </tr>\n",
       "    <tr>\n",
       "      <th>75%</th>\n",
       "      <td>3.000000e+06</td>\n",
       "      <td>3.000000</td>\n",
       "      <td>3.000000</td>\n",
       "      <td>4.000000</td>\n",
       "    </tr>\n",
       "    <tr>\n",
       "      <th>max</th>\n",
       "      <td>1.700000e+12</td>\n",
       "      <td>9.000000</td>\n",
       "      <td>9.000000</td>\n",
       "      <td>9.000000</td>\n",
       "    </tr>\n",
       "  </tbody>\n",
       "</table>\n",
       "</div>"
      ],
      "text/plain": [
       "              PRICE      BEDROOMS     BATHROOMS       TOILETS\n",
       "count  9.245500e+04  92455.000000  92455.000000  92455.000000\n",
       "mean   2.488726e+07      2.610913      2.671884      3.147131\n",
       "std    5.593194e+09      1.171996      1.227926      1.429911\n",
       "min    0.000000e+00      1.000000      1.000000      1.000000\n",
       "25%    6.000000e+05      2.000000      2.000000      2.000000\n",
       "50%    1.200000e+06      3.000000      3.000000      3.000000\n",
       "75%    3.000000e+06      3.000000      3.000000      4.000000\n",
       "max    1.700000e+12      9.000000      9.000000      9.000000"
      ]
     },
     "execution_count": 9,
     "metadata": {},
     "output_type": "execute_result"
    }
   ],
   "source": [
    "eko2.describe()"
   ]
  },
  {
   "cell_type": "code",
   "execution_count": 10,
   "id": "6b4b922c",
   "metadata": {},
   "outputs": [
    {
     "data": {
      "text/plain": [
       "(92455, 7)"
      ]
     },
     "execution_count": 10,
     "metadata": {},
     "output_type": "execute_result"
    }
   ],
   "source": [
    "eko2.shape"
   ]
  },
  {
   "cell_type": "code",
   "execution_count": 11,
   "id": "71208fd1",
   "metadata": {},
   "outputs": [
    {
     "data": {
      "text/plain": [
       "15113"
      ]
     },
     "execution_count": 11,
     "metadata": {},
     "output_type": "execute_result"
    }
   ],
   "source": [
    "eko2.duplicated().sum()"
   ]
  },
  {
   "cell_type": "code",
   "execution_count": 12,
   "id": "48304e91",
   "metadata": {},
   "outputs": [],
   "source": [
    "eko2.drop_duplicates(inplace = True)"
   ]
  },
  {
   "cell_type": "code",
   "execution_count": 13,
   "id": "bfcf53ac",
   "metadata": {},
   "outputs": [
    {
     "data": {
      "text/plain": [
       "(77342, 7)"
      ]
     },
     "execution_count": 13,
     "metadata": {},
     "output_type": "execute_result"
    }
   ],
   "source": [
    "eko2.shape"
   ]
  },
  {
   "cell_type": "code",
   "execution_count": 14,
   "id": "3e24e0bf",
   "metadata": {},
   "outputs": [
    {
     "data": {
      "text/plain": [
       "{'FLAT / APARTMENT': 41435,\n",
       " 'HOUSE': 13341,\n",
       " 'MINI FLAT': 7448,\n",
       " 'BLOCKS OF FLATS': 3740,\n",
       " 'DETACHED DUPLEX': 3714,\n",
       " 'SELF CONTAIN': 2609,\n",
       " 'TERRACED DUPLEX': 2013,\n",
       " 'APARTMENT': 1831,\n",
       " 'PENTHOUSE': 445,\n",
       " 'DETACHED BUNGALOW': 373,\n",
       " 'BOYS QUARTERS': 145,\n",
       " 'MASSIONETTE': 123,\n",
       " 'STUDIO APARTMENT FLAT': 58,\n",
       " 'TERRACED BUNGALOW': 44,\n",
       " 'BUNGALOW': 20,\n",
       " 'TOWNHOUSE': 3}"
      ]
     },
     "execution_count": 14,
     "metadata": {},
     "output_type": "execute_result"
    }
   ],
   "source": [
    "eko2[\"HOUSE_TYPE_NEW\"].value_counts().to_dict()"
   ]
  },
  {
   "cell_type": "code",
   "execution_count": 15,
   "id": "d2850680",
   "metadata": {},
   "outputs": [],
   "source": [
    "# map the fiffernt house type to a general name\n",
    "House_dict = {'FLAT / APARTMENT': \"FLAT\" ,\n",
    " 'HOUSE': \"HOUSE\",\n",
    " 'MINI FLAT': \"FLAT\",\n",
    " 'BLOCKS OF FLATS': \"BLOCKS OF FLAT\",\n",
    " 'DETACHED DUPLEX': \"DUPLEX\",\n",
    " 'SELF CONTAIN': \"FLAT\",\n",
    " 'TERRACED DUPLEX': \"DUPLEX\",\n",
    " 'APARTMENT': \"FLAT\",\n",
    " 'PENTHOUSE': \"PENTHOUSE\",\n",
    " 'DETACHED BUNGALOW': \"BUNGALOW\",\n",
    " 'BOYS QUARTERS': \"FLAT\",\n",
    " 'MASSIONETTE': \"DUPLEX\",\n",
    " 'STUDIO APARTMENT FLAT': \"STUDIO APARTMENT FLAT\",\n",
    " 'TERRACED BUNGALOW': \"BUNGALOW\",\n",
    " 'BUNGALOW': \"BUNGALOW\",\n",
    " 'TOWNHOUSE': \"DUPLEX\"}"
   ]
  },
  {
   "cell_type": "code",
   "execution_count": 16,
   "id": "4a5f12e3",
   "metadata": {},
   "outputs": [],
   "source": [
    "eko2['HOUSE_TYPE'] = eko2['HOUSE_TYPE_NEW'].map(House_dict)"
   ]
  },
  {
   "cell_type": "code",
   "execution_count": 17,
   "id": "12bcdac3",
   "metadata": {},
   "outputs": [
    {
     "data": {
      "text/plain": [
       "array(['HOUSE', 'FLAT', 'DUPLEX', 'BLOCKS OF FLAT', 'PENTHOUSE',\n",
       "       'BUNGALOW', 'STUDIO APARTMENT FLAT'], dtype=object)"
      ]
     },
     "execution_count": 17,
     "metadata": {},
     "output_type": "execute_result"
    }
   ],
   "source": [
    "eko2['HOUSE_TYPE'].unique()"
   ]
  },
  {
   "cell_type": "code",
   "execution_count": 18,
   "id": "90c103a7",
   "metadata": {},
   "outputs": [],
   "source": [
    "eko2.drop('HOUSE_TYPE_NEW', axis = 1, inplace = True)"
   ]
  },
  {
   "cell_type": "code",
   "execution_count": 19,
   "id": "b3987d41",
   "metadata": {},
   "outputs": [
    {
     "data": {
      "text/html": [
       "<div>\n",
       "<style scoped>\n",
       "    .dataframe tbody tr th:only-of-type {\n",
       "        vertical-align: middle;\n",
       "    }\n",
       "\n",
       "    .dataframe tbody tr th {\n",
       "        vertical-align: top;\n",
       "    }\n",
       "\n",
       "    .dataframe thead th {\n",
       "        text-align: right;\n",
       "    }\n",
       "</style>\n",
       "<table border=\"1\" class=\"dataframe\">\n",
       "  <thead>\n",
       "    <tr style=\"text-align: right;\">\n",
       "      <th></th>\n",
       "      <th>LOCATION</th>\n",
       "      <th>PRICE</th>\n",
       "      <th>DATE ADDED</th>\n",
       "      <th>BEDROOMS</th>\n",
       "      <th>BATHROOMS</th>\n",
       "      <th>TOILETS</th>\n",
       "      <th>HOUSE_TYPE</th>\n",
       "    </tr>\n",
       "  </thead>\n",
       "  <tbody>\n",
       "    <tr>\n",
       "      <th>0</th>\n",
       "      <td>Ikoyi</td>\n",
       "      <td>15000000.0</td>\n",
       "      <td>2022-08-12</td>\n",
       "      <td>3</td>\n",
       "      <td>3</td>\n",
       "      <td>4</td>\n",
       "      <td>HOUSE</td>\n",
       "    </tr>\n",
       "    <tr>\n",
       "      <th>1</th>\n",
       "      <td>Ikoyi</td>\n",
       "      <td>10000000.0</td>\n",
       "      <td>2022-08-12</td>\n",
       "      <td>3</td>\n",
       "      <td>3</td>\n",
       "      <td>4</td>\n",
       "      <td>FLAT</td>\n",
       "    </tr>\n",
       "    <tr>\n",
       "      <th>2</th>\n",
       "      <td>Ikoyi</td>\n",
       "      <td>50000000.0</td>\n",
       "      <td>2022-08-12</td>\n",
       "      <td>5</td>\n",
       "      <td>5</td>\n",
       "      <td>6</td>\n",
       "      <td>HOUSE</td>\n",
       "    </tr>\n",
       "    <tr>\n",
       "      <th>3</th>\n",
       "      <td>Ikoyi</td>\n",
       "      <td>10000000.0</td>\n",
       "      <td>2022-08-10</td>\n",
       "      <td>3</td>\n",
       "      <td>3</td>\n",
       "      <td>4</td>\n",
       "      <td>FLAT</td>\n",
       "    </tr>\n",
       "    <tr>\n",
       "      <th>4</th>\n",
       "      <td>Ikoyi</td>\n",
       "      <td>14000000.0</td>\n",
       "      <td>2022-08-10</td>\n",
       "      <td>3</td>\n",
       "      <td>3</td>\n",
       "      <td>4</td>\n",
       "      <td>FLAT</td>\n",
       "    </tr>\n",
       "  </tbody>\n",
       "</table>\n",
       "</div>"
      ],
      "text/plain": [
       "  LOCATION       PRICE  DATE ADDED  BEDROOMS  BATHROOMS  TOILETS HOUSE_TYPE\n",
       "0    Ikoyi  15000000.0  2022-08-12         3          3        4      HOUSE\n",
       "1    Ikoyi  10000000.0  2022-08-12         3          3        4       FLAT\n",
       "2    Ikoyi  50000000.0  2022-08-12         5          5        6      HOUSE\n",
       "3    Ikoyi  10000000.0  2022-08-10         3          3        4       FLAT\n",
       "4    Ikoyi  14000000.0  2022-08-10         3          3        4       FLAT"
      ]
     },
     "execution_count": 19,
     "metadata": {},
     "output_type": "execute_result"
    }
   ],
   "source": [
    "eko2.head()"
   ]
  },
  {
   "cell_type": "code",
   "execution_count": 20,
   "id": "67eb088e",
   "metadata": {},
   "outputs": [
    {
     "data": {
      "text/plain": [
       "LOCATION      0\n",
       "PRICE         0\n",
       "DATE ADDED    0\n",
       "BEDROOMS      0\n",
       "BATHROOMS     0\n",
       "TOILETS       0\n",
       "HOUSE_TYPE    0\n",
       "dtype: int64"
      ]
     },
     "execution_count": 20,
     "metadata": {},
     "output_type": "execute_result"
    }
   ],
   "source": [
    "eko2.isnull().sum()"
   ]
  },
  {
   "cell_type": "code",
   "execution_count": 21,
   "id": "82c9b697",
   "metadata": {},
   "outputs": [
    {
     "data": {
      "text/plain": [
       "841"
      ]
     },
     "execution_count": 21,
     "metadata": {},
     "output_type": "execute_result"
    }
   ],
   "source": [
    "eko2.duplicated().sum()"
   ]
  },
  {
   "cell_type": "code",
   "execution_count": 22,
   "id": "5af613bd",
   "metadata": {},
   "outputs": [],
   "source": [
    "eko2.drop_duplicates(inplace = True)"
   ]
  },
  {
   "cell_type": "code",
   "execution_count": 23,
   "id": "3332e268",
   "metadata": {},
   "outputs": [
    {
     "data": {
      "text/plain": [
       "array(['Ikoyi', 'Yaba', 'Lekki', 'Ajah', 'Victoria Island', 'Ikeja',\n",
       "       'Ilupeju ', 'Isolo', 'Shomolu ', 'Ketu', 'Surulere',\n",
       "       ' Amuwo Odofin ', ' Abule Egba ', 'Oshodi ', 'Apapa ', ' Ajah ',\n",
       "       ' Ikorodu ', ' Ojodu ', ' Ipaja ', 'Egbeda ', 'Ikotun', ' Idimu ',\n",
       "       'Ogba ', ' Ipaja', ' Igando ', ' Akowonjo ', ' Ikate-Lekki',\n",
       "       ' Ikota-Lekki', 'Chevron-Lekki', ' Phase1-Lekki', 'Phase2-Lekki ',\n",
       "       'Vgc-Lekki', ' Ibeju-Lekki', ' Osapa London Lekki', 'Agungi Lekki',\n",
       "       ' Lekki ', ' Victoria Island ', 'Victoria Island ',\n",
       "       ' Opebi-Ikeja ', 'Allen Avenue-Ikeja ', ' GRA-Ikeja ',\n",
       "       'Oregun-Ikeja', ' Ikeja ', ' Akoka-Yaba', 'Alagomeji-Yaba ',\n",
       "       ' Adekunle-Yaba ', ' Abule Oja-Yaba', ' Abule Ijesha-Yaba',\n",
       "       'Onike-Yaba ', ' Jibowu-Yaba ', 'Sabo-Yaba ', ' Iwaya-Yaba ',\n",
       "       ' Ebute Metta-Yaba', 'Fola Agoro-Yaba', 'Yaba ',\n",
       "       ' Ago Palace-Okota', 'Okota', ' Phase1-Gbagada ', 'Phase2-Gbagada',\n",
       "       ' Ifako-Gbagada', 'Oworonshoki-Gbagada ', 'Soluyi-Gbagada',\n",
       "       ' Medina-Gbagada', ' Gbagada', ' Anthony Village-Maryland',\n",
       "       ' Mende-Maryland', ' Maryland ', 'Ikotun-Igando', ' Ojo',\n",
       "       ' Igando', 'Ayobo ', 'Akesan ', ' Egbeda ', ' Fagba-Agege',\n",
       "       'Cement-Agege ', 'Oko Oba-Agege ', ' Ifako-Agege',\n",
       "       ' Iju Ishaga-Agege', ' Orile-Agege ', ' Agege ',\n",
       "       'Marina-Lagos Island', 'Obalende-Lagos Island ', 'Lagos Island',\n",
       "       'Ilasamaja-Mushin', 'Mushin', 'Phase1-Magodo', 'Phase2-Magodo',\n",
       "       'Phase2-Magodo ', 'Phase1-Magodo ', 'Ojota ', 'Ogudu ',\n",
       "       'Alapere-Ketu', 'Mile12-Ketu', 'Shangisha-Ketu', ' Ikosi-Ketu',\n",
       "       'Epe', 'Alimosho ', 'Bariga', ' Ejigbo', 'Sangotedo', 'Badagry',\n",
       "       'Ogba', 'Iganmu-Orile ', 'Fagba-Agege', 'Iju Ishaga-Agege',\n",
       "       'Iganmu-Orile', 'Shomolu', 'surulere'], dtype=object)"
      ]
     },
     "execution_count": 23,
     "metadata": {},
     "output_type": "execute_result"
    }
   ],
   "source": [
    "eko2['LOCATION'].unique()"
   ]
  },
  {
   "cell_type": "code",
   "execution_count": 24,
   "id": "d2314457",
   "metadata": {},
   "outputs": [
    {
     "data": {
      "text/plain": [
       "array(['Ikoyi', 'Yaba', 'Lekki', 'Ajah', 'Victoria island', 'Ikeja',\n",
       "       'Ilupeju', 'Isolo', 'Shomolu', 'Ketu', 'Surulere', 'amuwo odofin',\n",
       "       'abule egba', 'Oshodi', 'Apapa', 'ajah', 'ikorodu', 'ojodu',\n",
       "       'ipaja', 'Egbeda', 'Ikotun', 'idimu', 'Ogba', 'igando', 'akowonjo',\n",
       "       'ikate-lekki', 'ikota-lekki', 'Chevron-lekki', 'phase1-lekki',\n",
       "       'Phase2-lekki', 'Vgc-lekki', 'ibeju-lekki', 'osapa london lekki',\n",
       "       'Agungi lekki', 'lekki', 'victoria island', 'opebi-ikeja',\n",
       "       'Allen avenue-ikeja', 'gra-ikeja', 'Oregun-ikeja', 'ikeja',\n",
       "       'akoka-yaba', 'Alagomeji-yaba', 'adekunle-yaba', 'abule oja-yaba',\n",
       "       'abule ijesha-yaba', 'Onike-yaba', 'jibowu-yaba', 'Sabo-yaba',\n",
       "       'iwaya-yaba', 'ebute metta-yaba', 'Fola agoro-yaba',\n",
       "       'ago palace-okota', 'Okota', 'phase1-gbagada', 'Phase2-gbagada',\n",
       "       'ifako-gbagada', 'Oworonshoki-gbagada', 'Soluyi-gbagada',\n",
       "       'medina-gbagada', 'gbagada', 'anthony village-maryland',\n",
       "       'mende-maryland', 'maryland', 'Ikotun-igando', 'ojo', 'Ayobo',\n",
       "       'Akesan', 'egbeda', 'fagba-agege', 'Cement-agege', 'Oko oba-agege',\n",
       "       'ifako-agege', 'iju ishaga-agege', 'orile-agege', 'agege',\n",
       "       'Marina-lagos island', 'Obalende-lagos island', 'Lagos island',\n",
       "       'Ilasamaja-mushin', 'Mushin', 'Phase1-magodo', 'Phase2-magodo',\n",
       "       'Ojota', 'Ogudu', 'Alapere-ketu', 'Mile12-ketu', 'Shangisha-ketu',\n",
       "       'ikosi-ketu', 'Epe', 'Alimosho', 'Bariga', 'ejigbo', 'Sangotedo',\n",
       "       'Badagry', 'Iganmu-orile', 'Fagba-agege', 'Iju ishaga-agege'],\n",
       "      dtype=object)"
      ]
     },
     "execution_count": 24,
     "metadata": {},
     "output_type": "execute_result"
    }
   ],
   "source": [
    "eko2[\"LOCATION\"] = eko2[\"LOCATION\"].str.capitalize()\n",
    "eko2[\"LOCATION\"] = eko2[\"LOCATION\"].str.strip()\n",
    "eko2[\"LOCATION\"].unique()"
   ]
  },
  {
   "cell_type": "code",
   "execution_count": 25,
   "id": "9992846a",
   "metadata": {},
   "outputs": [
    {
     "data": {
      "text/plain": [
       "HOUSE_TYPE\n",
       "FLAT                     52802\n",
       "HOUSE                    13341\n",
       "DUPLEX                    5678\n",
       "BLOCKS OF FLAT            3740\n",
       "PENTHOUSE                  445\n",
       "BUNGALOW                   437\n",
       "STUDIO APARTMENT FLAT       58\n",
       "Name: count, dtype: int64"
      ]
     },
     "execution_count": 25,
     "metadata": {},
     "output_type": "execute_result"
    }
   ],
   "source": [
    "eko2[\"HOUSE_TYPE\"].value_counts()"
   ]
  },
  {
   "cell_type": "code",
   "execution_count": 26,
   "id": "a7be9ebc",
   "metadata": {},
   "outputs": [],
   "source": [
    "eko3 = eko2[(eko2['HOUSE_TYPE'] != \"BLOCKS OF FLAT\") & (eko2['HOUSE_TYPE'] != \"PENTHOUSE\") & (eko2['HOUSE_TYPE'] != \"STUDIO APARTMENT FLAT\")]"
   ]
  },
  {
   "cell_type": "code",
   "execution_count": 27,
   "id": "8cf59aa3",
   "metadata": {},
   "outputs": [
    {
     "data": {
      "text/plain": [
       "HOUSE_TYPE\n",
       "FLAT        52802\n",
       "HOUSE       13341\n",
       "DUPLEX       5678\n",
       "BUNGALOW      437\n",
       "Name: count, dtype: int64"
      ]
     },
     "execution_count": 27,
     "metadata": {},
     "output_type": "execute_result"
    }
   ],
   "source": [
    "eko3[\"HOUSE_TYPE\"].value_counts()"
   ]
  },
  {
   "cell_type": "code",
   "execution_count": 28,
   "id": "7e956137",
   "metadata": {},
   "outputs": [
    {
     "data": {
      "text/plain": [
       "(72258, 7)"
      ]
     },
     "execution_count": 28,
     "metadata": {},
     "output_type": "execute_result"
    }
   ],
   "source": [
    "eko3.shape"
   ]
  },
  {
   "cell_type": "code",
   "execution_count": 29,
   "id": "6f211e81",
   "metadata": {},
   "outputs": [
    {
     "name": "stdout",
     "output_type": "stream",
     "text": [
      "<class 'pandas.core.frame.DataFrame'>\n",
      "Index: 72258 entries, 0 to 92845\n",
      "Data columns (total 7 columns):\n",
      " #   Column      Non-Null Count  Dtype  \n",
      "---  ------      --------------  -----  \n",
      " 0   LOCATION    72258 non-null  object \n",
      " 1   PRICE       72258 non-null  float64\n",
      " 2   DATE ADDED  72258 non-null  object \n",
      " 3   BEDROOMS    72258 non-null  int64  \n",
      " 4   BATHROOMS   72258 non-null  int64  \n",
      " 5   TOILETS     72258 non-null  int64  \n",
      " 6   HOUSE_TYPE  72258 non-null  object \n",
      "dtypes: float64(1), int64(3), object(3)\n",
      "memory usage: 4.4+ MB\n"
     ]
    }
   ],
   "source": [
    "eko3.info()"
   ]
  },
  {
   "cell_type": "code",
   "execution_count": 30,
   "id": "67f1f72d",
   "metadata": {},
   "outputs": [
    {
     "data": {
      "text/html": [
       "<div>\n",
       "<style scoped>\n",
       "    .dataframe tbody tr th:only-of-type {\n",
       "        vertical-align: middle;\n",
       "    }\n",
       "\n",
       "    .dataframe tbody tr th {\n",
       "        vertical-align: top;\n",
       "    }\n",
       "\n",
       "    .dataframe thead th {\n",
       "        text-align: right;\n",
       "    }\n",
       "</style>\n",
       "<table border=\"1\" class=\"dataframe\">\n",
       "  <thead>\n",
       "    <tr style=\"text-align: right;\">\n",
       "      <th></th>\n",
       "      <th>LOCATION</th>\n",
       "      <th>PRICE</th>\n",
       "      <th>DATE ADDED</th>\n",
       "      <th>BEDROOMS</th>\n",
       "      <th>BATHROOMS</th>\n",
       "      <th>TOILETS</th>\n",
       "      <th>HOUSE_TYPE</th>\n",
       "    </tr>\n",
       "  </thead>\n",
       "  <tbody>\n",
       "    <tr>\n",
       "      <th>0</th>\n",
       "      <td>Yaba</td>\n",
       "      <td>1200000.0</td>\n",
       "      <td>2021-04-14</td>\n",
       "      <td>2</td>\n",
       "      <td>3</td>\n",
       "      <td>3</td>\n",
       "      <td>FLAT</td>\n",
       "    </tr>\n",
       "    <tr>\n",
       "      <th>1</th>\n",
       "      <td>Isolo</td>\n",
       "      <td>700000.0</td>\n",
       "      <td>2019-09-13</td>\n",
       "      <td>2</td>\n",
       "      <td>2</td>\n",
       "      <td>3</td>\n",
       "      <td>FLAT</td>\n",
       "    </tr>\n",
       "    <tr>\n",
       "      <th>2</th>\n",
       "      <td>abule egba</td>\n",
       "      <td>1200000.0</td>\n",
       "      <td>2022-07-28</td>\n",
       "      <td>2</td>\n",
       "      <td>3</td>\n",
       "      <td>3</td>\n",
       "      <td>FLAT</td>\n",
       "    </tr>\n",
       "    <tr>\n",
       "      <th>3</th>\n",
       "      <td>medina-gbagada</td>\n",
       "      <td>2000000.0</td>\n",
       "      <td>2017-09-29</td>\n",
       "      <td>4</td>\n",
       "      <td>4</td>\n",
       "      <td>4</td>\n",
       "      <td>HOUSE</td>\n",
       "    </tr>\n",
       "    <tr>\n",
       "      <th>4</th>\n",
       "      <td>amuwo odofin</td>\n",
       "      <td>600000.0</td>\n",
       "      <td>2020-05-10</td>\n",
       "      <td>2</td>\n",
       "      <td>2</td>\n",
       "      <td>3</td>\n",
       "      <td>FLAT</td>\n",
       "    </tr>\n",
       "  </tbody>\n",
       "</table>\n",
       "</div>"
      ],
      "text/plain": [
       "         LOCATION      PRICE  DATE ADDED  BEDROOMS  BATHROOMS  TOILETS  \\\n",
       "0            Yaba  1200000.0  2021-04-14         2          3        3   \n",
       "1           Isolo   700000.0  2019-09-13         2          2        3   \n",
       "2      abule egba  1200000.0  2022-07-28         2          3        3   \n",
       "3  medina-gbagada  2000000.0  2017-09-29         4          4        4   \n",
       "4    amuwo odofin   600000.0  2020-05-10         2          2        3   \n",
       "\n",
       "  HOUSE_TYPE  \n",
       "0       FLAT  \n",
       "1       FLAT  \n",
       "2       FLAT  \n",
       "3      HOUSE  \n",
       "4       FLAT  "
      ]
     },
     "execution_count": 30,
     "metadata": {},
     "output_type": "execute_result"
    }
   ],
   "source": [
    "# shuffling the dataset\n",
    "eko3 = eko3.sample(eko3.shape[0]).reset_index(drop=True)\n",
    "\n",
    "eko3.head()"
   ]
  },
  {
   "cell_type": "code",
   "execution_count": 31,
   "id": "edcbf11f",
   "metadata": {},
   "outputs": [
    {
     "name": "stdout",
     "output_type": "stream",
     "text": [
      "<class 'pandas.core.frame.DataFrame'>\n",
      "RangeIndex: 72258 entries, 0 to 72257\n",
      "Data columns (total 7 columns):\n",
      " #   Column      Non-Null Count  Dtype  \n",
      "---  ------      --------------  -----  \n",
      " 0   LOCATION    72258 non-null  object \n",
      " 1   PRICE       72258 non-null  float64\n",
      " 2   DATE ADDED  72258 non-null  object \n",
      " 3   BEDROOMS    72258 non-null  int64  \n",
      " 4   BATHROOMS   72258 non-null  int64  \n",
      " 5   TOILETS     72258 non-null  int64  \n",
      " 6   HOUSE_TYPE  72258 non-null  object \n",
      "dtypes: float64(1), int64(3), object(3)\n",
      "memory usage: 3.9+ MB\n"
     ]
    }
   ],
   "source": [
    "eko3.info()"
   ]
  },
  {
   "cell_type": "code",
   "execution_count": 32,
   "id": "aca4241f",
   "metadata": {},
   "outputs": [
    {
     "data": {
      "text/plain": [
       "array([1.2000000e+06, 7.0000000e+05, 2.0000000e+06, 6.0000000e+05,\n",
       "       8.0000000e+05, 4.5000000e+06, 3.0000000e+09, 1.0000000e+06,\n",
       "       5.5000000e+05, 1.1000000e+06, 7.5000000e+06, 6.5000000e+05,\n",
       "       3.2000000e+06, 4.0000000e+05, 1.5000000e+07, 1.3000000e+06,\n",
       "       2.8000000e+06, 9.0000000e+05, 2.5000000e+06, 1.0000000e+07,\n",
       "       7.0000000e+06, 3.5000000e+06, 4.0000000e+04, 3.0000000e+06,\n",
       "       2.5000000e+05, 4.0000000e+06, 4.5000000e+05, 7.5000000e+05,\n",
       "       1.8000000e+06, 2.2000000e+06, 1.5000000e+06, 3.0000000e+05,\n",
       "       1.8000000e+07, 5.0000000e+05, 3.5000000e+05, 0.0000000e+00,\n",
       "       5.0000000e+06, 1.4000000e+05, 9.5000000e+05, 1.6000000e+07,\n",
       "       6.5000000e+06, 2.3000000e+05, 2.7000000e+06, 3.0120000e+06,\n",
       "       8.0000000e+06, 5.5000000e+06, 8.5000000e+07, 8.5000000e+05,\n",
       "       1.4000090e+06, 1.7000000e+06, 3.6000000e+07, 1.2000000e+07,\n",
       "       6.0000000e+06, 6.0000000e+04, 1.6000000e+06, 1.3000000e+07,\n",
       "       2.5000000e+07, 1.3000000e+05, 2.1000000e+06, 4.5000000e+07,\n",
       "       6.8000000e+05, 1.7000000e+05, 4.0000000e+07, 8.5000000e+06,\n",
       "       9.2500000e+06, 2.3000000e+06, 1.4000000e+06, 3.5000000e+07,\n",
       "       6.5000000e+08, 1.2500000e+06, 3.6000000e+06, 4.3000000e+05,\n",
       "       2.0000000e+05, 5.7000000e+05, 2.2000000e+05, 2.2450000e+06,\n",
       "       1.1000000e+07, 1.5000000e+05, 4.7000000e+06, 1.0000000e+05,\n",
       "       3.0000000e+07, 3.2000000e+05, 9.0000000e+06, 4.3000000e+06,\n",
       "       3.7000000e+05, 2.6000000e+06, 1.9000000e+05, 2.3500000e+06,\n",
       "       1.9000000e+06, 9.5000000e+06, 6.5000900e+05, 1.0500000e+07,\n",
       "       7.0000000e+07, 9.0000000e+07, 1.7500000e+07, 2.8000000e+05,\n",
       "       4.2000000e+06, 4.2000000e+05, 1.0000000e+00, 1.1500000e+06,\n",
       "       1.4000000e+07, 8.4000000e+04, 4.0000000e+00, 3.3000000e+06,\n",
       "       2.7000000e+05, 5.0000000e+04, 1.8000000e+05, 2.0000000e+07,\n",
       "       1.1500000e+05, 8.3000000e+05, 3.8000000e+06, 4.8000000e+05,\n",
       "       1.2000000e+05, 1.2000000e+09, 5.3000000e+06, 1.3500000e+06,\n",
       "       1.4500000e+06, 3.7000000e+06, 2.2000000e+07, 4.7000000e+05,\n",
       "       7.2000000e+04, 1.2500000e+07, 4.7000000e+07, 2.0000000e+00,\n",
       "       2.0000000e+02, 4.2500000e+06, 2.3000000e+02, 2.3000000e+07,\n",
       "       9.4000000e+05, 2.7500000e+06, 2.8000000e+07, 3.5000090e+06,\n",
       "       4.9000000e+05, 7.0009900e+05, 6.6600000e+05, 2.4000000e+06,\n",
       "       5.8000000e+06, 1.6000000e+05, 1.0000000e+08, 1.9000000e+07,\n",
       "       4.8000000e+06, 1.0800000e+07, 5.3000000e+05, 2.5000000e+03,\n",
       "       7.8000000e+05, 1.3500000e+07, 4.0000900e+05, 3.5000000e+09,\n",
       "       7.7000000e+06, 1.4000000e+08, 2.4000000e+05, 2.7000000e+07,\n",
       "       5.0000000e+07, 1.9500000e+06, 1.1000000e+05, 4.5000000e+02,\n",
       "       2.5000000e+04, 2.5500000e+06, 3.4000000e+05, 3.8000000e+05,\n",
       "       1.8500000e+06, 4.1000000e+07, 8.0000000e+07, 2.1000000e+05,\n",
       "       7.7000000e+07, 1.4500000e+07, 8.0000000e+04, 3.6000000e+05,\n",
       "       9.5000000e+04, 2.4000000e+07, 2.5000000e+08, 2.5000900e+06,\n",
       "       3.3000000e+09, 6.3330000e+06, 1.6000000e+09, 6.4000000e+05,\n",
       "       2.0000000e+08, 5.7000000e+06, 3.4000000e+06, 9.0000000e+08,\n",
       "       5.2000000e+06, 3.5000000e+02, 1.1500000e+07, 1.8000000e+02,\n",
       "       2.2000000e+09, 3.0000000e+04, 7.2000000e+05, 1.5000500e+09,\n",
       "       3.8000000e+04, 1.7500000e+06, 3.3000000e+05, 1.7000000e+07,\n",
       "       4.9000000e+06, 3.9000000e+05, 3.0000000e+08, 4.0009000e+05,\n",
       "       8.5000000e+08, 3.5000000e+04, 1.5000000e+09, 5.8000000e+05,\n",
       "       1.0250000e+06, 6.5000000e+07, 7.6000000e+06, 4.5000000e+04,\n",
       "       3.9800000e+05, 1.7200000e+07, 1.3000000e+03, 4.5500000e+05,\n",
       "       3.6000000e+04, 3.1000000e+06, 7.5000000e+07, 1.0000000e+09,\n",
       "       1.3800000e+07, 2.2500000e+06, 8.5000000e+04, 2.0000000e+10,\n",
       "       1.6000000e+02, 6.2000000e+05, 9.6000000e+05, 2.1300000e+06,\n",
       "       7.0000000e+04, 5.5000000e+07, 4.0000000e+09, 7.6000000e+05,\n",
       "       6.0000900e+05, 9.0000000e+04, 6.3000000e+07, 3.3600000e+05,\n",
       "       1.5000000e+08, 1.3000000e+08, 5.9999900e+05, 2.4999999e+07,\n",
       "       9.8000000e+05, 2.2000000e+04, 9.6000000e+04, 1.6600000e+06,\n",
       "       9.3000000e+05, 9.5000000e+07, 1.2000090e+06, 1.5500000e+06,\n",
       "       4.9250000e+06, 1.8500000e+08, 2.6100000e+05, 6.6000000e+07,\n",
       "       2.6000000e+05, 4.5009900e+05, 3.8000000e+08, 2.9000000e+06,\n",
       "       1.2000000e+08, 1.6500000e+06, 4.8500000e+06, 4.2400000e+05,\n",
       "       5.0000000e+02, 1.8500000e+07, 1.3100000e+07, 7.0000000e+02,\n",
       "       3.9500000e+07, 5.0000900e+05, 6.0000000e+07, 1.7000000e+08,\n",
       "       3.7500000e+06, 1.5500000e+07, 9.0000000e+02, 6.0000000e+08,\n",
       "       1.3000000e+09, 2.2500000e+05, 6.1000000e+05, 1.8000000e+08,\n",
       "       1.3500000e+08, 1.7000000e+12, 2.5000500e+09, 2.3400000e+06,\n",
       "       7.4000000e+05, 4.1000000e+06, 2.6000000e+07, 2.1000090e+06,\n",
       "       1.0001000e+07, 1.9280000e+06, 8.0000000e+09, 3.8000000e+07,\n",
       "       2.0000000e+04, 1.0200000e+06, 7.9000000e+05, 1.0500000e+06,\n",
       "       9.0000900e+05, 8.7000000e+05, 1.0730000e+07, 1.1000000e+08,\n",
       "       5.8000000e+02, 8.2000000e+05, 3.2200000e+06, 2.1000000e+07,\n",
       "       1.4000990e+06, 7.5000000e+04, 5.5000000e+02, 8.2500000e+05,\n",
       "       3.2000000e+07, 1.2425000e+07, 6.5000000e+04, 2.1400000e+06,\n",
       "       4.0000000e+08, 1.4000000e+09, 1.5000000e+04, 3.3500000e+06,\n",
       "       1.6000000e+08, 1.3500000e+05, 5.5000000e+09, 7.5000000e+08,\n",
       "       2.9500000e+07, 1.1700000e+06, 5.6000000e+06, 6.3000000e+06,\n",
       "       1.2200000e+06, 5.7500000e+06, 2.5000000e+02, 3.0750000e+06,\n",
       "       2.6500000e+05, 4.0000000e+02, 4.2000000e+04, 5.2000000e+05,\n",
       "       1.3200000e+05, 1.6200000e+06, 1.9000000e+08, 2.2000000e+02,\n",
       "       5.0000000e+03, 8.0000000e+08, 1.2500000e+05, 4.6000000e+06,\n",
       "       6.3500000e+06, 6.5000000e+02, 3.1000000e+05, 1.1900000e+07,\n",
       "       1.9500000e+08, 1.9200000e+08, 7.8000000e+06, 4.6000000e+05,\n",
       "       2.8500000e+06, 5.2000000e+07, 2.3000000e+08, 1.8000000e+09,\n",
       "       1.9200000e+06, 1.5000000e+02, 1.9500000e+07, 1.2000009e+07,\n",
       "       7.3000000e+05, 1.0000000e+04, 1.1400000e+06, 5.3000000e+07,\n",
       "       1.7750000e+06, 6.0000900e+06, 3.9000000e+06, 4.0000003e+07,\n",
       "       1.0001000e+06, 4.5000000e+08, 8.6000000e+05, 3.2500000e+06,\n",
       "       2.5000000e+09, 3.5600000e+06, 1.6005000e+07, 6.2000000e+07,\n",
       "       4.8000000e+04, 2.0000000e+03, 6.0000000e+03, 1.2600000e+06,\n",
       "       1.9300000e+05, 5.6000000e+05, 4.4000000e+06, 9.3000000e+02,\n",
       "       5.8000000e+07, 1.5000009e+07, 9.6000000e+06, 4.6000000e+07,\n",
       "       3.1200000e+05, 2.9000000e+07, 2.0450000e+06, 4.9999500e+06,\n",
       "       6.5000000e+09, 6.5000000e+03, 3.4000000e+07, 2.4000000e+08,\n",
       "       4.7500000e+05, 7.8000000e+07, 4.1250000e+04, 1.1600000e+06,\n",
       "       6.7000000e+06, 3.3000000e+07, 3.7500000e+05, 1.0950000e+07,\n",
       "       1.2900000e+06, 5.5000000e+04, 7.5000800e+05, 1.6800000e+06,\n",
       "       3.0000000e+02, 1.6500000e+07, 8.5000000e+02, 1.6100000e+07,\n",
       "       2.9000000e+05, 8.2000000e+07, 8.0000000e+02, 5.0000000e+08,\n",
       "       5.2500000e+05, 2.4400000e+06, 4.9500000e+06, 5.4000000e+05,\n",
       "       8.0000000e+03, 5.5000000e+08, 2.4300000e+06, 3.2000000e+08,\n",
       "       2.4500000e+06, 2.4000000e+02, 2.0000300e+06, 3.8500000e+05,\n",
       "       4.1200000e+06, 6.2000000e+06, 1.1200000e+07, 6.7500000e+05,\n",
       "       2.7300000e+06, 7.3500000e+05, 3.1000000e+07, 2.8000000e+08,\n",
       "       2.2000000e+03, 6.2500000e+05, 1.2000000e+04, 1.4400000e+05,\n",
       "       2.5000000e+10, 1.0850000e+06, 2.8000000e+09, 2.0000000e+09,\n",
       "       6.6000000e+05, 3.4000000e+04, 6.8500000e+06, 3.4999980e+06,\n",
       "       8.4200000e+05, 6.5000500e+09, 2.0002000e+08, 3.5000000e+08,\n",
       "       1.8500000e+05, 3.9999990e+06, 1.7500000e+05, 1.1000000e+09,\n",
       "       4.0000000e+03, 9.7000000e+05, 1.9500000e+05, 7.2000000e+07,\n",
       "       3.3500000e+04, 8.5000000e+03, 1.8000000e+04, 4.5000000e+09,\n",
       "       1.4700000e+06, 2.0700000e+06, 1.4600000e+07, 2.6500000e+06,\n",
       "       9.5000000e+08, 2.3000090e+06, 2.2000000e+08, 1.0008000e+06,\n",
       "       1.5000900e+06, 1.6500000e+08, 4.8000000e+07, 7.0000000e+08,\n",
       "       7.5000000e+02, 8.4000000e+05, 6.9000000e+07, 2.0000030e+07,\n",
       "       1.2500000e+10, 8.7221000e+05, 6.0000000e+02, 3.0000000e+03,\n",
       "       4.2500000e+05, 4.2500000e+07, 2.7500000e+05, 3.0000900e+05,\n",
       "       2.2500000e+04, 1.2200000e+05, 1.0600000e+06, 3.7000000e+07,\n",
       "       1.7300000e+07, 8.5000000e+09, 5.8500000e+05, 6.5555500e+05,\n",
       "       2.0150000e+06, 2.3550000e+06, 2.0200000e+06, 6.1000000e+06,\n",
       "       5.0000090e+06, 2.3535000e+06, 1.7000000e+09, 1.1400000e+08,\n",
       "       1.1020000e+06, 2.1200000e+06, 6.9000000e+05, 3.2000000e+09,\n",
       "       4.2000000e+08, 1.4062500e+07, 2.1000000e+02, 5.5000900e+05,\n",
       "       2.3200000e+06, 1.2500000e+08, 1.4200000e+06, 7.1000000e+06,\n",
       "       9.0000000e+03, 3.3098760e+06, 1.5300000e+07, 5.6000000e+08,\n",
       "       1.4350000e+06, 3.6500000e+06, 4.7500000e+06, 8.1500000e+05,\n",
       "       1.4500000e+09, 6.0000990e+06, 7.2000000e+06, 2.2800000e+07,\n",
       "       3.3500000e+05, 9.8000000e+07, 2.6800000e+06, 2.1600000e+06,\n",
       "       8.9000000e+06, 1.6900000e+07, 1.4500000e+08, 1.2200000e+08,\n",
       "       2.1800000e+06, 7.6500000e+05, 6.2000000e+04, 3.8500000e+07,\n",
       "       1.0500000e+08, 5.6000000e+07, 7.9000000e+07, 1.3000090e+06,\n",
       "       6.3000000e+05, 6.8000000e+06, 1.6600000e+07, 9.1000000e+05,\n",
       "       6.8000000e+07, 1.6000000e+04, 5.8000000e+08, 3.8000000e+02,\n",
       "       8.0000900e+05, 2.1000000e+08, 4.5500000e+06])"
      ]
     },
     "execution_count": 32,
     "metadata": {},
     "output_type": "execute_result"
    }
   ],
   "source": [
    "eko3.PRICE.unique()"
   ]
  },
  {
   "cell_type": "code",
   "execution_count": 33,
   "id": "8a9e941e",
   "metadata": {},
   "outputs": [],
   "source": [
    "# dropping all Rent less than 1000 in the dataset\n",
    "eko3.drop(eko3[eko3['PRICE'] < 1000].index, inplace=True)\n",
    "eko3.reset_index(drop=True, inplace=True)"
   ]
  },
  {
   "cell_type": "code",
   "execution_count": 34,
   "id": "3eadbe47",
   "metadata": {},
   "outputs": [
    {
     "data": {
      "text/plain": [
       "39"
      ]
     },
     "execution_count": 34,
     "metadata": {},
     "output_type": "execute_result"
    }
   ],
   "source": [
    "eko3.duplicated().sum()"
   ]
  },
  {
   "cell_type": "code",
   "execution_count": 35,
   "id": "73e93f23",
   "metadata": {},
   "outputs": [],
   "source": [
    "eko3.drop_duplicates(inplace = True)"
   ]
  },
  {
   "cell_type": "code",
   "execution_count": 36,
   "id": "39e8d3be",
   "metadata": {},
   "outputs": [
    {
     "data": {
      "text/plain": [
       "(72057, 7)"
      ]
     },
     "execution_count": 36,
     "metadata": {},
     "output_type": "execute_result"
    }
   ],
   "source": [
    "eko3.shape"
   ]
  },
  {
   "cell_type": "code",
   "execution_count": 37,
   "id": "91c86f02",
   "metadata": {},
   "outputs": [
    {
     "data": {
      "text/html": [
       "<div>\n",
       "<style scoped>\n",
       "    .dataframe tbody tr th:only-of-type {\n",
       "        vertical-align: middle;\n",
       "    }\n",
       "\n",
       "    .dataframe tbody tr th {\n",
       "        vertical-align: top;\n",
       "    }\n",
       "\n",
       "    .dataframe thead th {\n",
       "        text-align: right;\n",
       "    }\n",
       "</style>\n",
       "<table border=\"1\" class=\"dataframe\">\n",
       "  <thead>\n",
       "    <tr style=\"text-align: right;\">\n",
       "      <th></th>\n",
       "      <th>LOCATION</th>\n",
       "      <th>PRICE</th>\n",
       "      <th>DATE ADDED</th>\n",
       "      <th>BEDROOMS</th>\n",
       "      <th>BATHROOMS</th>\n",
       "      <th>TOILETS</th>\n",
       "      <th>HOUSE_TYPE</th>\n",
       "    </tr>\n",
       "  </thead>\n",
       "  <tbody>\n",
       "    <tr>\n",
       "      <th>59394</th>\n",
       "      <td>Surulere</td>\n",
       "      <td>1200000.0</td>\n",
       "      <td>2022-08-02</td>\n",
       "      <td>2</td>\n",
       "      <td>2</td>\n",
       "      <td>3</td>\n",
       "      <td>HOUSE</td>\n",
       "    </tr>\n",
       "  </tbody>\n",
       "</table>\n",
       "</div>"
      ],
      "text/plain": [
       "       LOCATION      PRICE  DATE ADDED  BEDROOMS  BATHROOMS  TOILETS  \\\n",
       "59394  Surulere  1200000.0  2022-08-02         2          2        3   \n",
       "\n",
       "      HOUSE_TYPE  \n",
       "59394      HOUSE  "
      ]
     },
     "execution_count": 37,
     "metadata": {},
     "output_type": "execute_result"
    }
   ],
   "source": [
    "eko3.sample()"
   ]
  },
  {
   "cell_type": "code",
   "execution_count": 38,
   "id": "7f3916f4",
   "metadata": {},
   "outputs": [
    {
     "data": {
      "text/plain": [
       "0"
      ]
     },
     "execution_count": 38,
     "metadata": {},
     "output_type": "execute_result"
    }
   ],
   "source": [
    "eko3.duplicated().sum()"
   ]
  },
  {
   "cell_type": "code",
   "execution_count": 202,
   "id": "f38de564",
   "metadata": {},
   "outputs": [
    {
     "data": {
      "text/plain": [
       "LOCATION        98\n",
       "PRICE          510\n",
       "DATE ADDED    2625\n",
       "BEDROOMS         9\n",
       "BATHROOMS        9\n",
       "TOILETS          9\n",
       "HOUSE_TYPE       4\n",
       "dtype: int64"
      ]
     },
     "execution_count": 202,
     "metadata": {},
     "output_type": "execute_result"
    }
   ],
   "source": [
    "eko3.nunique()"
   ]
  },
  {
   "cell_type": "code",
   "execution_count": 41,
   "id": "40e984cd",
   "metadata": {},
   "outputs": [
    {
     "data": {
      "image/png": "[encoded data removed]",
      "text/plain": [
       "<Figure size 1600x800 with 1 Axes>"
      ]
     },
     "metadata": {},
     "output_type": "display_data"
    }
   ],
   "source": [
    "fig, ax = plt.subplots(figsize=(16,8))\n",
    "sns.countplot(x=eko3['LOCATION'],ax=ax,order=eko3['LOCATION'].value_counts().index)\n",
    "ax.set_title('Value Count of Location')\n",
    "ax.set_xlabel('LOCATION')\n",
    "ax.set_ylabel('VALUE COUNTS')\n",
    "ax.set_xticklabels(ax.get_xticklabels(), rotation = 90);"
   ]
  },
  {
   "cell_type": "code",
   "execution_count": 204,
   "id": "0f72c94c",
   "metadata": {},
   "outputs": [
    {
     "data": {
      "image/png": "[encoded data removed]",
      "text/plain": [
       "<Figure size 1200x800 with 1 Axes>"
      ]
     },
     "metadata": {},
     "output_type": "display_data"
    }
   ],
   "source": [
    "# checking top 10 expensive locations\n",
    "top_10_expensive_locations = eko3.groupby('LOCATION')['PRICE'].mean().nlargest(10)\n",
    "\n",
    "plt.figure(figsize=(12, 8))\n",
    "top_10_expensive_locations.plot(kind='bar', color='skyblue')\n",
    "plt.title('Top 10 Expensive Locations')\n",
    "plt.xlabel('Location')\n",
    "plt.ylabel('Average PRICE')\n",
    "plt.xticks(rotation=90)\n",
    "plt.show()"
   ]
  },
  {
   "cell_type": "code",
   "execution_count": 205,
   "id": "051c46f9",
   "metadata": {},
   "outputs": [
    {
     "data": {
      "image/png": "[encoded data removed]",
      "text/plain": [
       "<Figure size 1200x800 with 1 Axes>"
      ]
     },
     "metadata": {},
     "output_type": "display_data"
    }
   ],
   "source": [
    "# checking 10 least expensive locations\n",
    "least_expensive_locations = eko3.groupby('LOCATION')['PRICE'].mean().nsmallest(10)\n",
    "\n",
    "plt.figure(figsize=(12, 8))\n",
    "least_expensive_locations.plot(kind='bar', color='skyblue')\n",
    "plt.title('Least Expensive Expensive Locations')\n",
    "plt.xlabel('Location')\n",
    "plt.ylabel('Average Price')\n",
    "plt.xticks(rotation=90)\n",
    "plt.show()"
   ]
  },
  {
   "cell_type": "code",
   "execution_count": 206,
   "id": "9c442aaf",
   "metadata": {},
   "outputs": [
    {
     "data": {
      "image/png": "[encoded data removed]",
      "text/plain": [
       "<Figure size 1200x500 with 1 Axes>"
      ]
     },
     "metadata": {},
     "output_type": "display_data"
    }
   ],
   "source": [
    "fig, ax = plt.subplots(figsize=(12,5))\n",
    "sns.countplot(x=eko3[\"BEDROOMS\"], ax=ax,order=eko3[\"BEDROOMS\"].value_counts().index)\n",
    "ax.set_title(\"Value Count of Bedroom\")\n",
    "ax.set_xlabel(\"BEDROOM\")\n",
    "ax.set_ylabel(\"VALUE COUNTS\");"
   ]
  },
  {
   "cell_type": "code",
   "execution_count": 207,
   "id": "3801bd3b",
   "metadata": {},
   "outputs": [
    {
     "data": {
      "image/png": "[encoded data removed]",
      "text/plain": [
       "<Figure size 1200x500 with 1 Axes>"
      ]
     },
     "metadata": {},
     "output_type": "display_data"
    }
   ],
   "source": [
    "fig, ax = plt.subplots(figsize=(12,5))\n",
    "sns.countplot(x=eko3[\"BATHROOMS\"], ax=ax,order=eko3[\"BATHROOMS\"].value_counts().index)\n",
    "ax.set_title(\"Value Count of Bathroom\")\n",
    "ax.set_xlabel(\"BATHROOM\")\n",
    "ax.set_ylabel(\"VALUE COUNTS\");"
   ]
  },
  {
   "cell_type": "code",
   "execution_count": 208,
   "id": "c887f9b1",
   "metadata": {},
   "outputs": [
    {
     "data": {
      "image/png": "[encoded data removed]",
      "text/plain": [
       "<Figure size 1200x500 with 1 Axes>"
      ]
     },
     "metadata": {},
     "output_type": "display_data"
    }
   ],
   "source": [
    "fig, ax = plt.subplots(figsize=(12,5))\n",
    "sns.countplot(x=eko3[\"TOILETS\"], ax=ax,order=eko3[\"TOILETS\"].value_counts().index)\n",
    "ax.set_title(\"Value Count of Toilet\")\n",
    "ax.set_xlabel(\"TOILET\")\n",
    "ax.set_ylabel(\"VALUE COUNTS\");"
   ]
  },
  {
   "cell_type": "code",
   "execution_count": 209,
   "id": "e3adc87b",
   "metadata": {},
   "outputs": [
    {
     "data": {
      "image/png": "[encoded data removed]",
      "text/plain": [
       "<Figure size 1400x500 with 1 Axes>"
      ]
     },
     "metadata": {},
     "output_type": "display_data"
    }
   ],
   "source": [
    "sns.set()\n",
    "fig,ax = plt.subplots(figsize = (14,5))\n",
    "location_fr = eko3['HOUSE_TYPE'].value_counts()\n",
    "ord_frq = location_fr.index\n",
    "sns.countplot(x = 'HOUSE_TYPE',data=eko3,order = ord_frq)\n",
    "plt.xlabel('House type')\n",
    "plt.ylabel('Frequency')\n",
    "plt.title('ValueCount of House Type');"
   ]
  },
  {
   "cell_type": "code",
   "execution_count": 210,
   "id": "8de84d8d",
   "metadata": {},
   "outputs": [
    {
     "name": "stdout",
     "output_type": "stream",
     "text": [
      "<class 'pandas.core.frame.DataFrame'>\n",
      "Index: 72057 entries, 0 to 72095\n",
      "Data columns (total 7 columns):\n",
      " #   Column      Non-Null Count  Dtype  \n",
      "---  ------      --------------  -----  \n",
      " 0   LOCATION    72057 non-null  object \n",
      " 1   PRICE       72057 non-null  float64\n",
      " 2   DATE ADDED  72057 non-null  object \n",
      " 3   BEDROOMS    72057 non-null  int64  \n",
      " 4   BATHROOMS   72057 non-null  int64  \n",
      " 5   TOILETS     72057 non-null  int64  \n",
      " 6   HOUSE_TYPE  72057 non-null  object \n",
      "dtypes: float64(1), int64(3), object(3)\n",
      "memory usage: 4.4+ MB\n"
     ]
    }
   ],
   "source": [
    "eko3.info()"
   ]
  },
  {
   "cell_type": "code",
   "execution_count": 211,
   "id": "af49ace8",
   "metadata": {},
   "outputs": [
    {
     "data": {
      "image/png": "[encoded data removed]",
      "text/plain": [
       "<Figure size 1000x800 with 2 Axes>"
      ]
     },
     "metadata": {},
     "output_type": "display_data"
    }
   ],
   "source": [
    "numeric_columns = ['PRICE', 'BEDROOMS', 'BATHROOMS', 'TOILETS']\n",
    "numeric_data = eko3[numeric_columns]\n",
    "\n",
    "# Creating a correlation matrix\n",
    "correlation_matrix = numeric_data.corr()\n",
    "\n",
    "# Creating a heatmap\n",
    "plt.figure(figsize=(10, 8))\n",
    "sns.heatmap(correlation_matrix, annot=True, fmt=\".2f\", linewidths=.5)\n",
    "plt.title('Correlation Heatmap')\n",
    "plt.show()"
   ]
  },
  {
   "cell_type": "markdown",
   "id": "91f072ae",
   "metadata": {},
   "source": [
    "### Feature Engineering"
   ]
  },
  {
   "cell_type": "code",
   "execution_count": 212,
   "id": "51b7cf0c",
   "metadata": {},
   "outputs": [
    {
     "data": {
      "text/html": [
       "<div>\n",
       "<style scoped>\n",
       "    .dataframe tbody tr th:only-of-type {\n",
       "        vertical-align: middle;\n",
       "    }\n",
       "\n",
       "    .dataframe tbody tr th {\n",
       "        vertical-align: top;\n",
       "    }\n",
       "\n",
       "    .dataframe thead th {\n",
       "        text-align: right;\n",
       "    }\n",
       "</style>\n",
       "<table border=\"1\" class=\"dataframe\">\n",
       "  <thead>\n",
       "    <tr style=\"text-align: right;\">\n",
       "      <th></th>\n",
       "      <th>LOCATION</th>\n",
       "      <th>PRICE</th>\n",
       "      <th>DATE ADDED</th>\n",
       "      <th>BEDROOMS</th>\n",
       "      <th>BATHROOMS</th>\n",
       "      <th>TOILETS</th>\n",
       "      <th>HOUSE_TYPE</th>\n",
       "    </tr>\n",
       "  </thead>\n",
       "  <tbody>\n",
       "    <tr>\n",
       "      <th>0</th>\n",
       "      <td>Lekki</td>\n",
       "      <td>5000000.0</td>\n",
       "      <td>2022-01-13</td>\n",
       "      <td>4</td>\n",
       "      <td>4</td>\n",
       "      <td>4</td>\n",
       "      <td>DUPLEX</td>\n",
       "    </tr>\n",
       "    <tr>\n",
       "      <th>1</th>\n",
       "      <td>lekki</td>\n",
       "      <td>7500000.0</td>\n",
       "      <td>2021-12-09</td>\n",
       "      <td>4</td>\n",
       "      <td>4</td>\n",
       "      <td>4</td>\n",
       "      <td>HOUSE</td>\n",
       "    </tr>\n",
       "    <tr>\n",
       "      <th>2</th>\n",
       "      <td>Ikeja</td>\n",
       "      <td>4000000.0</td>\n",
       "      <td>2017-11-24</td>\n",
       "      <td>4</td>\n",
       "      <td>4</td>\n",
       "      <td>5</td>\n",
       "      <td>HOUSE</td>\n",
       "    </tr>\n",
       "    <tr>\n",
       "      <th>3</th>\n",
       "      <td>ipaja</td>\n",
       "      <td>450000.0</td>\n",
       "      <td>2022-08-08</td>\n",
       "      <td>2</td>\n",
       "      <td>1</td>\n",
       "      <td>2</td>\n",
       "      <td>FLAT</td>\n",
       "    </tr>\n",
       "    <tr>\n",
       "      <th>4</th>\n",
       "      <td>Lekki</td>\n",
       "      <td>3000000.0</td>\n",
       "      <td>2021-08-01</td>\n",
       "      <td>4</td>\n",
       "      <td>4</td>\n",
       "      <td>5</td>\n",
       "      <td>DUPLEX</td>\n",
       "    </tr>\n",
       "  </tbody>\n",
       "</table>\n",
       "</div>"
      ],
      "text/plain": [
       "  LOCATION      PRICE  DATE ADDED  BEDROOMS  BATHROOMS  TOILETS HOUSE_TYPE\n",
       "0    Lekki  5000000.0  2022-01-13         4          4        4     DUPLEX\n",
       "1    lekki  7500000.0  2021-12-09         4          4        4      HOUSE\n",
       "2    Ikeja  4000000.0  2017-11-24         4          4        5      HOUSE\n",
       "3    ipaja   450000.0  2022-08-08         2          1        2       FLAT\n",
       "4    Lekki  3000000.0  2021-08-01         4          4        5     DUPLEX"
      ]
     },
     "execution_count": 212,
     "metadata": {},
     "output_type": "execute_result"
    }
   ],
   "source": [
    "eko3.head()"
   ]
  },
  {
   "cell_type": "code",
   "execution_count": 213,
   "id": "79d35d87",
   "metadata": {},
   "outputs": [],
   "source": [
    "eko3['LOCATION'] = eko3['LOCATION'].str.capitalize()"
   ]
  },
  {
   "cell_type": "code",
   "execution_count": 214,
   "id": "873a2ceb",
   "metadata": {},
   "outputs": [
    {
     "data": {
      "text/plain": [
       "array(['Lekki', 'Ikeja', 'Ipaja', 'Ojodu', 'Surulere', 'Ikoyi',\n",
       "       'Onike-yaba', 'Ketu', 'Phase1-lekki', 'Shomolu', 'Amuwo odofin',\n",
       "       'Ikotun-igando', 'Ajah', 'Sangotedo', 'Yaba', 'Ikorodu', 'Ojota',\n",
       "       'Ogba', 'Ogudu', 'Phase1-magodo', 'Alagomeji-yaba',\n",
       "       'Victoria island', 'Osapa london lekki', 'Ago palace-okota',\n",
       "       'Medina-gbagada', 'Gbagada', 'Egbeda', 'Soluyi-gbagada',\n",
       "       'Chevron-lekki', 'Phase2-magodo', 'Phase2-gbagada', 'Ikotun',\n",
       "       'Ifako-gbagada', 'Isolo', 'Alapere-ketu', 'Ojo', 'Agege',\n",
       "       'Fola agoro-yaba', 'Oregun-ikeja', 'Ikota-lekki', 'Ikate-lekki',\n",
       "       'Ilupeju', 'Phase2-lekki', 'Oko oba-agege', 'Maryland',\n",
       "       'Mende-maryland', 'Ikosi-ketu', 'Abule egba', 'Ibeju-lekki',\n",
       "       'Gra-ikeja', 'Lagos island', 'Akowonjo', 'Apapa', 'Idimu',\n",
       "       'Opebi-ikeja', 'Mushin', 'Igando', 'Oworonshoki-gbagada',\n",
       "       'Akoka-yaba', 'Alimosho', 'Sabo-yaba', 'Agungi lekki', 'Oshodi',\n",
       "       'Ayobo', 'Iju ishaga-agege', 'Allen avenue-ikeja', 'Okota',\n",
       "       'Akesan', 'Cement-agege', 'Phase1-gbagada',\n",
       "       'Anthony village-maryland', 'Mile12-ketu', 'Fagba-agege',\n",
       "       'Shangisha-ketu', 'Orile-agege', 'Jibowu-yaba', 'Ejigbo',\n",
       "       'Adekunle-yaba', 'Bariga', 'Epe', 'Abule ijesha-yaba',\n",
       "       'Abule oja-yaba', 'Badagry', 'Vgc-lekki', 'Ebute metta-yaba',\n",
       "       'Iwaya-yaba', 'Ifako-agege', 'Ilasamaja-mushin',\n",
       "       'Marina-lagos island', 'Iganmu-orile', 'Obalende-lagos island'],\n",
       "      dtype=object)"
      ]
     },
     "execution_count": 214,
     "metadata": {},
     "output_type": "execute_result"
    }
   ],
   "source": [
    "eko3.LOCATION.unique()"
   ]
  },
  {
   "cell_type": "code",
   "execution_count": 215,
   "id": "8fd2ea32",
   "metadata": {},
   "outputs": [],
   "source": [
    "LOCATION_dict = {'Victoria island':'Victoria-Island', \n",
    "                 'Amuwo odofin':'Amuwo-Odofin',\n",
    "                 'Vgc-lekki':'VGC-Lekki',\n",
    "                 'Iganmu-orile':'Iganmu-Orile',\n",
    "                 'Iwaya-yaba':'Iwaya-Yaba',\n",
    "                 'Lagos island':'Lagos-Island',\n",
    "                 'Adekunle-yaba':'Adekunle-Yaba',\n",
    "                 'Jibowu-yaba':'Jibowu-Yaba',\n",
    "                 'Onike-yaba':'Onike-Yaba',\n",
    "                 'Shangisha-ketu':'Shangisha-Ketu',\n",
    "                 'Ifako-agege':'Ifako-Agege',\n",
    "                 'Ibeju-lekki':'Ibeju-Lekki',\n",
    "                 'Fagba-agege':'Fagba-Agege',\n",
    "                 'Orile-agege':'Orile-Agege',\n",
    "                 'Soluyi-gbagada':'Soluyi-Gbagada',\n",
    "                 'Cement-agege':'Cement-Agege',\n",
    "                 'Oregun-ikeja':'Oregun-Ikeja',\n",
    "                 'Mile12-ketu':'Mile12-Ketu',\n",
    "                 'Phase1-lekki':'Phase1-Lekki',\n",
    "                 'Phase2-lekki':'Phase2-Lekki',\n",
    "                 'Gra-ikeja':'GRA-Ikeja',\n",
    "                 'Ikotun-igando':'Ikotun-Igando',\n",
    "                 'Alagomeji-yaba':'Alagomeji-Yaba',\n",
    "                 'Opebi-ikeja':'Opebi-Ikeja',\n",
    "                 'Chevron-lekki':'Chevron-Lekki',\n",
    "                 'Phase2-gbagada':'Phase2-Gbagada',\n",
    "                 'Akoka-yaba':'Akoka-Yaba',\n",
    "                 'Mende-maryland':'Mende-Maryland',\n",
    "                 'Allen avenue-ikeja':'Allen-Avenue-Ikeja',\n",
    "                 'Ikota-lekki':'Ikota-Lekki',\n",
    "                 'Ikate-lekki':'Ikate-Lekki',\n",
    "                 'Oworonshoki-gbagada':'Oworonshoki-Gbagada',\n",
    "                 'Oko oba-agege':'Oko-Oba-Agege',\n",
    "                 'Ifako-gbagada':'Ifako-Gbagada',\n",
    "                 'Obalende-lagos island':'Obalende-Lagos-Island',\n",
    "                 'Ikosi-ketu':'Ikosi-Ketu',\n",
    "                 'Sabo-yaba':'Sabo-Yaba',\n",
    "                 'Phase1-magodo':'Phase1-Magodo',\n",
    "                 'Medina-gbagada':'Medina-Gbagada',\n",
    "                 'Abule egba':'Abule-Egba',\n",
    "                 'Alapere-ketu':'Alapere-Ketu',\n",
    "                 'Ilasamaja-mushin':'Ilasamaja-Mushin',\n",
    "                 'Osapa london lekki':'Osapa-London-Lekki',\n",
    "                 'Agungi lekki':'Agungi-Lekki',\n",
    "                 'Allen Avenue-Ikeja':'Allen-Avenue-Ikeja',\n",
    "                 'Abule oja-yaba':'Abule-Oja-Yaba',\n",
    "                 'Abule ijesha-yaba':'Abule-Ijesha-Yaba',\n",
    "                 'Ebute metta-yaba':'Ebute-Metta-Yaba',\n",
    "                 'Phase1-gbagada':'Phase1-Gbagada',\n",
    "                 'Phase2-magodo':'Phase2-Magodo',\n",
    "                 'Fola agoro-yaba':'Fola-Agoro-Yaba',\n",
    "                 'Ago palace-okota':'Ago-Palace-Okota',\n",
    "                 'Anthony village-maryland':'Anthony-Village-Maryland',\n",
    "                 'Iju ishaga-agege':'Iju-Ishaga-Agege',\n",
    "                 'Marina-lagos island':'Marina-Lagos-Island'}\n",
    "\n",
    "eko3.replace(LOCATION_dict, inplace=True)"
   ]
  },
  {
   "cell_type": "code",
   "execution_count": 216,
   "id": "af25ef53",
   "metadata": {},
   "outputs": [
    {
     "data": {
      "text/plain": [
       "array(['Lekki', 'Ikeja', 'Ipaja', 'Ojodu', 'Surulere', 'Ikoyi',\n",
       "       'Onike-Yaba', 'Ketu', 'Phase1-Lekki', 'Shomolu', 'Amuwo-Odofin',\n",
       "       'Ikotun-Igando', 'Ajah', 'Sangotedo', 'Yaba', 'Ikorodu', 'Ojota',\n",
       "       'Ogba', 'Ogudu', 'Phase1-Magodo', 'Alagomeji-Yaba',\n",
       "       'Victoria-Island', 'Osapa-London-Lekki', 'Ago-Palace-Okota',\n",
       "       'Medina-Gbagada', 'Gbagada', 'Egbeda', 'Soluyi-Gbagada',\n",
       "       'Chevron-Lekki', 'Phase2-Magodo', 'Phase2-Gbagada', 'Ikotun',\n",
       "       'Ifako-Gbagada', 'Isolo', 'Alapere-Ketu', 'Ojo', 'Agege',\n",
       "       'Fola-Agoro-Yaba', 'Oregun-Ikeja', 'Ikota-Lekki', 'Ikate-Lekki',\n",
       "       'Ilupeju', 'Phase2-Lekki', 'Oko-Oba-Agege', 'Maryland',\n",
       "       'Mende-Maryland', 'Ikosi-Ketu', 'Abule-Egba', 'Ibeju-Lekki',\n",
       "       'GRA-Ikeja', 'Lagos-Island', 'Akowonjo', 'Apapa', 'Idimu',\n",
       "       'Opebi-Ikeja', 'Mushin', 'Igando', 'Oworonshoki-Gbagada',\n",
       "       'Akoka-Yaba', 'Alimosho', 'Sabo-Yaba', 'Agungi-Lekki', 'Oshodi',\n",
       "       'Ayobo', 'Iju-Ishaga-Agege', 'Allen-Avenue-Ikeja', 'Okota',\n",
       "       'Akesan', 'Cement-Agege', 'Phase1-Gbagada',\n",
       "       'Anthony-Village-Maryland', 'Mile12-Ketu', 'Fagba-Agege',\n",
       "       'Shangisha-Ketu', 'Orile-Agege', 'Jibowu-Yaba', 'Ejigbo',\n",
       "       'Adekunle-Yaba', 'Bariga', 'Epe', 'Abule-Ijesha-Yaba',\n",
       "       'Abule-Oja-Yaba', 'Badagry', 'VGC-Lekki', 'Ebute-Metta-Yaba',\n",
       "       'Iwaya-Yaba', 'Ifako-Agege', 'Ilasamaja-Mushin',\n",
       "       'Marina-Lagos-Island', 'Iganmu-Orile', 'Obalende-Lagos-Island'],\n",
       "      dtype=object)"
      ]
     },
     "execution_count": 216,
     "metadata": {},
     "output_type": "execute_result"
    }
   ],
   "source": [
    "eko3.LOCATION.unique()"
   ]
  },
  {
   "cell_type": "code",
   "execution_count": 217,
   "id": "f2e98aa5",
   "metadata": {},
   "outputs": [
    {
     "data": {
      "text/html": [
       "<div>\n",
       "<style scoped>\n",
       "    .dataframe tbody tr th:only-of-type {\n",
       "        vertical-align: middle;\n",
       "    }\n",
       "\n",
       "    .dataframe tbody tr th {\n",
       "        vertical-align: top;\n",
       "    }\n",
       "\n",
       "    .dataframe thead th {\n",
       "        text-align: right;\n",
       "    }\n",
       "</style>\n",
       "<table border=\"1\" class=\"dataframe\">\n",
       "  <thead>\n",
       "    <tr style=\"text-align: right;\">\n",
       "      <th></th>\n",
       "      <th>LOCATION</th>\n",
       "      <th>PRICE</th>\n",
       "      <th>DATE ADDED</th>\n",
       "      <th>BEDROOMS</th>\n",
       "      <th>BATHROOMS</th>\n",
       "      <th>TOILETS</th>\n",
       "      <th>HOUSE_TYPE</th>\n",
       "      <th>ISLAND</th>\n",
       "    </tr>\n",
       "  </thead>\n",
       "  <tbody>\n",
       "    <tr>\n",
       "      <th>72086</th>\n",
       "      <td>Ajah</td>\n",
       "      <td>1500000.0</td>\n",
       "      <td>2020-03-26</td>\n",
       "      <td>4</td>\n",
       "      <td>4</td>\n",
       "      <td>5</td>\n",
       "      <td>DUPLEX</td>\n",
       "      <td>Yes</td>\n",
       "    </tr>\n",
       "    <tr>\n",
       "      <th>72087</th>\n",
       "      <td>Abule-Egba</td>\n",
       "      <td>450000.0</td>\n",
       "      <td>2019-10-14</td>\n",
       "      <td>3</td>\n",
       "      <td>3</td>\n",
       "      <td>3</td>\n",
       "      <td>FLAT</td>\n",
       "      <td>No</td>\n",
       "    </tr>\n",
       "    <tr>\n",
       "      <th>72088</th>\n",
       "      <td>Ojodu</td>\n",
       "      <td>350000.0</td>\n",
       "      <td>2019-09-13</td>\n",
       "      <td>1</td>\n",
       "      <td>1</td>\n",
       "      <td>1</td>\n",
       "      <td>FLAT</td>\n",
       "      <td>No</td>\n",
       "    </tr>\n",
       "    <tr>\n",
       "      <th>72089</th>\n",
       "      <td>Okota</td>\n",
       "      <td>800000.0</td>\n",
       "      <td>2020-04-13</td>\n",
       "      <td>2</td>\n",
       "      <td>3</td>\n",
       "      <td>3</td>\n",
       "      <td>FLAT</td>\n",
       "      <td>No</td>\n",
       "    </tr>\n",
       "    <tr>\n",
       "      <th>72090</th>\n",
       "      <td>Isolo</td>\n",
       "      <td>600000.0</td>\n",
       "      <td>2018-09-17</td>\n",
       "      <td>2</td>\n",
       "      <td>2</td>\n",
       "      <td>2</td>\n",
       "      <td>FLAT</td>\n",
       "      <td>No</td>\n",
       "    </tr>\n",
       "    <tr>\n",
       "      <th>72091</th>\n",
       "      <td>Lekki</td>\n",
       "      <td>1000000.0</td>\n",
       "      <td>2022-06-16</td>\n",
       "      <td>1</td>\n",
       "      <td>1</td>\n",
       "      <td>2</td>\n",
       "      <td>FLAT</td>\n",
       "      <td>Yes</td>\n",
       "    </tr>\n",
       "    <tr>\n",
       "      <th>72092</th>\n",
       "      <td>Ipaja</td>\n",
       "      <td>800000.0</td>\n",
       "      <td>2021-08-03</td>\n",
       "      <td>2</td>\n",
       "      <td>2</td>\n",
       "      <td>3</td>\n",
       "      <td>FLAT</td>\n",
       "      <td>No</td>\n",
       "    </tr>\n",
       "    <tr>\n",
       "      <th>72093</th>\n",
       "      <td>Phase2-Gbagada</td>\n",
       "      <td>900000.0</td>\n",
       "      <td>2021-07-06</td>\n",
       "      <td>3</td>\n",
       "      <td>2</td>\n",
       "      <td>2</td>\n",
       "      <td>FLAT</td>\n",
       "      <td>No</td>\n",
       "    </tr>\n",
       "    <tr>\n",
       "      <th>72094</th>\n",
       "      <td>Isolo</td>\n",
       "      <td>800000.0</td>\n",
       "      <td>2020-03-21</td>\n",
       "      <td>3</td>\n",
       "      <td>3</td>\n",
       "      <td>4</td>\n",
       "      <td>FLAT</td>\n",
       "      <td>No</td>\n",
       "    </tr>\n",
       "    <tr>\n",
       "      <th>72095</th>\n",
       "      <td>Lekki</td>\n",
       "      <td>5000000.0</td>\n",
       "      <td>2022-07-10</td>\n",
       "      <td>5</td>\n",
       "      <td>5</td>\n",
       "      <td>5</td>\n",
       "      <td>HOUSE</td>\n",
       "      <td>Yes</td>\n",
       "    </tr>\n",
       "  </tbody>\n",
       "</table>\n",
       "</div>"
      ],
      "text/plain": [
       "             LOCATION      PRICE  DATE ADDED  BEDROOMS  BATHROOMS  TOILETS  \\\n",
       "72086            Ajah  1500000.0  2020-03-26         4          4        5   \n",
       "72087      Abule-Egba   450000.0  2019-10-14         3          3        3   \n",
       "72088           Ojodu   350000.0  2019-09-13         1          1        1   \n",
       "72089           Okota   800000.0  2020-04-13         2          3        3   \n",
       "72090           Isolo   600000.0  2018-09-17         2          2        2   \n",
       "72091           Lekki  1000000.0  2022-06-16         1          1        2   \n",
       "72092           Ipaja   800000.0  2021-08-03         2          2        3   \n",
       "72093  Phase2-Gbagada   900000.0  2021-07-06         3          2        2   \n",
       "72094           Isolo   800000.0  2020-03-21         3          3        4   \n",
       "72095           Lekki  5000000.0  2022-07-10         5          5        5   \n",
       "\n",
       "      HOUSE_TYPE ISLAND  \n",
       "72086     DUPLEX    Yes  \n",
       "72087       FLAT     No  \n",
       "72088       FLAT     No  \n",
       "72089       FLAT     No  \n",
       "72090       FLAT     No  \n",
       "72091       FLAT    Yes  \n",
       "72092       FLAT     No  \n",
       "72093       FLAT     No  \n",
       "72094       FLAT     No  \n",
       "72095      HOUSE    Yes  "
      ]
     },
     "execution_count": 217,
     "metadata": {},
     "output_type": "execute_result"
    }
   ],
   "source": [
    "# creating a column for island districts\n",
    "LOCATION_dict1 = {'Ajah':'Yes', 'Phase1-Gbagada':'No', 'Surulere':'No', 'Agungi-Lekki':'Yes', 'Alagomeji-Yaba':'No',\n",
    "                  'Isolo':'No', 'Lekki':'Yes', 'Osapa-London-Lekki':'Yes', 'Ikate-Lekki':'Yes', 'Ibeju-Lekki':'Yes',\n",
    "                  'Phase1-Lekki':'Yes', 'Mende-Maryland':'No', 'Victoria-Island':'Yes', 'Ikoyi':'Yes',\n",
    "                  'Ikeja':'No', 'Ikoyi':'Yes', 'Yaba':'No', 'Ilupeju':'No', 'Shomolu':'No',\n",
    "                  'Ketu':'No', 'Amuwo-Odofin':'No', 'Abule-Egba':'No', 'Oshodi':'No', 'Apapa':'No', 'Ikorodu':'No', 'Ojodu':'No',\n",
    "                  'Ipaja':'No', 'Egbeda':'No', 'Ikotun':'No', 'Idimu':'No', 'Ogba':'No', 'Igando':'No', 'Akowonjo':'No',\n",
    "                  'Ikota-Lekki':'Yes', 'Chevron-Lekki':'Yes', 'Phase2-Lekki':'Yes', 'VGC-Lekki':'Yes', 'Opebi-Ikeja':'No',\n",
    "                  'Allen-Avenue-Ikeja':'No', 'GRA-Ikeja':'No', 'Oregun-Ikeja':'No', 'Akoka-Yaba':'No', 'Adekunle-Yaba':'No',\n",
    "                  'Abule-Oja-Yaba':'No', 'Abule-Ijesha-Yaba':'No', 'Onike-Yaba':'No', 'Jibowu-Yaba':'No', 'Sabo-Yaba':'No',\n",
    "                  'Iwaya-Yaba':'No', 'Ebute-Metta-Yaba':'No', 'Fola-Agoro-Yaba':'No', 'Ago-Palace-Okota':'No', 'Okota':'No',\n",
    "                  'Phase1-Gbagada':'No', 'Phase2-Gbagada':'No', 'Ifako-Gbagada':'No', 'Oworonshoki-Gbagada':'No',\n",
    "                  'Soluyi-Gbagada':'No', 'Anthony-Village-Maryland':'No', 'Maryland':'No',\n",
    "                  'Ikotun-Igando':'No', 'Ojo':'No', 'Ayobo':'No', 'Akesan':'No', 'Fagba-Agege':'No', 'Cement-Agege':'No',\n",
    "                  'Oko-Oba-Agege':'No', 'Ifako-Agege':'No', 'Iju-Ishaga-Agege':'No', 'Orile-Agege':'No', 'Agege':'No',\n",
    "                  'Marina-Lagos-Island':'Yes', 'Obalende-Lagos-Island':'Yes', 'Ilasamaja-Mushin':'No',\n",
    "                  'Mushin':'No', 'Phase1-Magodo':'No', 'Phase2-Magodo':'No', 'Ojota':'No', 'Ogudu':'No', 'Epe':'Yes',\n",
    "                  'Alapere-Ketu':'No', 'Mile12-Ketu':'No', 'Shangisha-Ketu':'No', 'Ikosi-Ketu':'No', 'Alimosho':'No',\n",
    "                  'Bariga':'No', 'Ejigbo':'No', 'Sangotedo':'Yes', 'Badagry':'No', 'Iganmu-Orile':'No', 'Medina-Gbagada':'No','Lagos-Island':'Yes',\n",
    "                 'Gbagada':'No'}\n",
    "\n",
    "eko3['ISLAND'] = eko3['LOCATION'].replace(LOCATION_dict1)\n",
    "\n",
    "eko3.tail(10)"
   ]
  },
  {
   "cell_type": "code",
   "execution_count": 218,
   "id": "503e9a6b",
   "metadata": {},
   "outputs": [
    {
     "data": {
      "text/plain": [
       "91"
      ]
     },
     "execution_count": 218,
     "metadata": {},
     "output_type": "execute_result"
    }
   ],
   "source": [
    "eko3['LOCATION'].nunique()"
   ]
  },
  {
   "cell_type": "code",
   "execution_count": 219,
   "id": "82f49d42",
   "metadata": {},
   "outputs": [
    {
     "data": {
      "text/plain": [
       "array(['Yes', 'No'], dtype=object)"
      ]
     },
     "execution_count": 219,
     "metadata": {},
     "output_type": "execute_result"
    }
   ],
   "source": [
    "eko3['ISLAND'].unique()"
   ]
  },
  {
   "cell_type": "code",
   "execution_count": 220,
   "id": "bcc82588",
   "metadata": {},
   "outputs": [],
   "source": [
    "# reduce the price range\n",
    "eko3 = eko3[(eko3['PRICE'] >= 200000) & (eko3['PRICE'] <= 10000000)]"
   ]
  },
  {
   "cell_type": "code",
   "execution_count": 221,
   "id": "e3c746a1",
   "metadata": {},
   "outputs": [
    {
     "data": {
      "text/plain": [
       "(67491, 8)"
      ]
     },
     "execution_count": 221,
     "metadata": {},
     "output_type": "execute_result"
    }
   ],
   "source": [
    "eko3.shape"
   ]
  },
  {
   "cell_type": "code",
   "execution_count": 222,
   "id": "beb20bd8",
   "metadata": {},
   "outputs": [
    {
     "data": {
      "text/html": [
       "<div>\n",
       "<style scoped>\n",
       "    .dataframe tbody tr th:only-of-type {\n",
       "        vertical-align: middle;\n",
       "    }\n",
       "\n",
       "    .dataframe tbody tr th {\n",
       "        vertical-align: top;\n",
       "    }\n",
       "\n",
       "    .dataframe thead th {\n",
       "        text-align: right;\n",
       "    }\n",
       "</style>\n",
       "<table border=\"1\" class=\"dataframe\">\n",
       "  <thead>\n",
       "    <tr style=\"text-align: right;\">\n",
       "      <th></th>\n",
       "      <th>LOCATION</th>\n",
       "      <th>PRICE</th>\n",
       "      <th>DATE ADDED</th>\n",
       "      <th>BEDROOMS</th>\n",
       "      <th>BATHROOMS</th>\n",
       "      <th>TOILETS</th>\n",
       "      <th>HOUSE_TYPE</th>\n",
       "      <th>ISLAND</th>\n",
       "    </tr>\n",
       "  </thead>\n",
       "  <tbody>\n",
       "    <tr>\n",
       "      <th>0</th>\n",
       "      <td>Lekki</td>\n",
       "      <td>5000000.0</td>\n",
       "      <td>2022-01-13</td>\n",
       "      <td>4</td>\n",
       "      <td>4</td>\n",
       "      <td>4</td>\n",
       "      <td>DUPLEX</td>\n",
       "      <td>Yes</td>\n",
       "    </tr>\n",
       "    <tr>\n",
       "      <th>1</th>\n",
       "      <td>Lekki</td>\n",
       "      <td>7500000.0</td>\n",
       "      <td>2021-12-09</td>\n",
       "      <td>4</td>\n",
       "      <td>4</td>\n",
       "      <td>4</td>\n",
       "      <td>HOUSE</td>\n",
       "      <td>Yes</td>\n",
       "    </tr>\n",
       "    <tr>\n",
       "      <th>2</th>\n",
       "      <td>Ikeja</td>\n",
       "      <td>4000000.0</td>\n",
       "      <td>2017-11-24</td>\n",
       "      <td>4</td>\n",
       "      <td>4</td>\n",
       "      <td>5</td>\n",
       "      <td>HOUSE</td>\n",
       "      <td>No</td>\n",
       "    </tr>\n",
       "    <tr>\n",
       "      <th>3</th>\n",
       "      <td>Ipaja</td>\n",
       "      <td>450000.0</td>\n",
       "      <td>2022-08-08</td>\n",
       "      <td>2</td>\n",
       "      <td>1</td>\n",
       "      <td>2</td>\n",
       "      <td>FLAT</td>\n",
       "      <td>No</td>\n",
       "    </tr>\n",
       "    <tr>\n",
       "      <th>4</th>\n",
       "      <td>Lekki</td>\n",
       "      <td>3000000.0</td>\n",
       "      <td>2021-08-01</td>\n",
       "      <td>4</td>\n",
       "      <td>4</td>\n",
       "      <td>5</td>\n",
       "      <td>DUPLEX</td>\n",
       "      <td>Yes</td>\n",
       "    </tr>\n",
       "  </tbody>\n",
       "</table>\n",
       "</div>"
      ],
      "text/plain": [
       "  LOCATION      PRICE  DATE ADDED  BEDROOMS  BATHROOMS  TOILETS HOUSE_TYPE  \\\n",
       "0    Lekki  5000000.0  2022-01-13         4          4        4     DUPLEX   \n",
       "1    Lekki  7500000.0  2021-12-09         4          4        4      HOUSE   \n",
       "2    Ikeja  4000000.0  2017-11-24         4          4        5      HOUSE   \n",
       "3    Ipaja   450000.0  2022-08-08         2          1        2       FLAT   \n",
       "4    Lekki  3000000.0  2021-08-01         4          4        5     DUPLEX   \n",
       "\n",
       "  ISLAND  \n",
       "0    Yes  \n",
       "1    Yes  \n",
       "2     No  \n",
       "3     No  \n",
       "4    Yes  "
      ]
     },
     "execution_count": 222,
     "metadata": {},
     "output_type": "execute_result"
    }
   ],
   "source": [
    "eko3.head()"
   ]
  },
  {
   "cell_type": "code",
   "execution_count": 223,
   "id": "90426ef0",
   "metadata": {},
   "outputs": [
    {
     "data": {
      "text/plain": [
       "373"
      ]
     },
     "execution_count": 223,
     "metadata": {},
     "output_type": "execute_result"
    }
   ],
   "source": [
    "eko3.duplicated().sum()"
   ]
  },
  {
   "cell_type": "code",
   "execution_count": 224,
   "id": "60a663bb",
   "metadata": {},
   "outputs": [],
   "source": [
    "eko3.drop_duplicates(inplace=True)"
   ]
  },
  {
   "cell_type": "code",
   "execution_count": 225,
   "id": "bf0a5b44",
   "metadata": {},
   "outputs": [
    {
     "data": {
      "text/html": [
       "<div>\n",
       "<style scoped>\n",
       "    .dataframe tbody tr th:only-of-type {\n",
       "        vertical-align: middle;\n",
       "    }\n",
       "\n",
       "    .dataframe tbody tr th {\n",
       "        vertical-align: top;\n",
       "    }\n",
       "\n",
       "    .dataframe thead th {\n",
       "        text-align: right;\n",
       "    }\n",
       "</style>\n",
       "<table border=\"1\" class=\"dataframe\">\n",
       "  <thead>\n",
       "    <tr style=\"text-align: right;\">\n",
       "      <th></th>\n",
       "      <th>LOCATION</th>\n",
       "      <th>PRICE</th>\n",
       "      <th>DATE ADDED</th>\n",
       "      <th>BEDROOMS</th>\n",
       "      <th>BATHROOMS</th>\n",
       "      <th>TOILETS</th>\n",
       "      <th>HOUSE_TYPE</th>\n",
       "      <th>ISLAND</th>\n",
       "    </tr>\n",
       "  </thead>\n",
       "  <tbody>\n",
       "    <tr>\n",
       "      <th>0</th>\n",
       "      <td>Lekki</td>\n",
       "      <td>5000000.0</td>\n",
       "      <td>2022-01-13</td>\n",
       "      <td>4</td>\n",
       "      <td>4</td>\n",
       "      <td>4</td>\n",
       "      <td>DUPLEX</td>\n",
       "      <td>1</td>\n",
       "    </tr>\n",
       "    <tr>\n",
       "      <th>1</th>\n",
       "      <td>Lekki</td>\n",
       "      <td>7500000.0</td>\n",
       "      <td>2021-12-09</td>\n",
       "      <td>4</td>\n",
       "      <td>4</td>\n",
       "      <td>4</td>\n",
       "      <td>HOUSE</td>\n",
       "      <td>1</td>\n",
       "    </tr>\n",
       "    <tr>\n",
       "      <th>2</th>\n",
       "      <td>Ikeja</td>\n",
       "      <td>4000000.0</td>\n",
       "      <td>2017-11-24</td>\n",
       "      <td>4</td>\n",
       "      <td>4</td>\n",
       "      <td>5</td>\n",
       "      <td>HOUSE</td>\n",
       "      <td>0</td>\n",
       "    </tr>\n",
       "    <tr>\n",
       "      <th>3</th>\n",
       "      <td>Ipaja</td>\n",
       "      <td>450000.0</td>\n",
       "      <td>2022-08-08</td>\n",
       "      <td>2</td>\n",
       "      <td>1</td>\n",
       "      <td>2</td>\n",
       "      <td>FLAT</td>\n",
       "      <td>0</td>\n",
       "    </tr>\n",
       "    <tr>\n",
       "      <th>4</th>\n",
       "      <td>Lekki</td>\n",
       "      <td>3000000.0</td>\n",
       "      <td>2021-08-01</td>\n",
       "      <td>4</td>\n",
       "      <td>4</td>\n",
       "      <td>5</td>\n",
       "      <td>DUPLEX</td>\n",
       "      <td>1</td>\n",
       "    </tr>\n",
       "  </tbody>\n",
       "</table>\n",
       "</div>"
      ],
      "text/plain": [
       "  LOCATION      PRICE  DATE ADDED  BEDROOMS  BATHROOMS  TOILETS HOUSE_TYPE  \\\n",
       "0    Lekki  5000000.0  2022-01-13         4          4        4     DUPLEX   \n",
       "1    Lekki  7500000.0  2021-12-09         4          4        4      HOUSE   \n",
       "2    Ikeja  4000000.0  2017-11-24         4          4        5      HOUSE   \n",
       "3    Ipaja   450000.0  2022-08-08         2          1        2       FLAT   \n",
       "4    Lekki  3000000.0  2021-08-01         4          4        5     DUPLEX   \n",
       "\n",
       "   ISLAND  \n",
       "0       1  \n",
       "1       1  \n",
       "2       0  \n",
       "3       0  \n",
       "4       1  "
      ]
     },
     "execution_count": 225,
     "metadata": {},
     "output_type": "execute_result"
    }
   ],
   "source": [
    "from sklearn.preprocessing import LabelEncoder\n",
    "label_encoder = LabelEncoder()\n",
    "eko3['ISLAND'] = label_encoder.fit_transform(eko3['ISLAND'])\n",
    "eko3.head()"
   ]
  },
  {
   "cell_type": "code",
   "execution_count": 226,
   "id": "7f6adeb4",
   "metadata": {},
   "outputs": [
    {
     "name": "stdout",
     "output_type": "stream",
     "text": [
      "<class 'pandas.core.frame.DataFrame'>\n",
      "Index: 67118 entries, 0 to 72095\n",
      "Data columns (total 8 columns):\n",
      " #   Column      Non-Null Count  Dtype  \n",
      "---  ------      --------------  -----  \n",
      " 0   LOCATION    67118 non-null  object \n",
      " 1   PRICE       67118 non-null  float64\n",
      " 2   DATE ADDED  67118 non-null  object \n",
      " 3   BEDROOMS    67118 non-null  int64  \n",
      " 4   BATHROOMS   67118 non-null  int64  \n",
      " 5   TOILETS     67118 non-null  int64  \n",
      " 6   HOUSE_TYPE  67118 non-null  object \n",
      " 7   ISLAND      67118 non-null  int32  \n",
      "dtypes: float64(1), int32(1), int64(3), object(3)\n",
      "memory usage: 4.4+ MB\n"
     ]
    }
   ],
   "source": [
    "eko3.info()"
   ]
  },
  {
   "cell_type": "code",
   "execution_count": 227,
   "id": "6cfb13ab",
   "metadata": {},
   "outputs": [
    {
     "data": {
      "text/plain": [
       "array(['Lekki', 'Ikeja', 'Ipaja', 'Ojodu', 'Surulere', 'Onike-Yaba',\n",
       "       'Ketu', 'Phase1-Lekki', 'Shomolu', 'Amuwo-Odofin', 'Ikotun-Igando',\n",
       "       'Ajah', 'Sangotedo', 'Ojota', 'Ogba', 'Ogudu', 'Phase1-Magodo',\n",
       "       'Ikorodu', 'Alagomeji-Yaba', 'Victoria-Island',\n",
       "       'Osapa-London-Lekki', 'Ago-Palace-Okota', 'Medina-Gbagada', 'Yaba',\n",
       "       'Ikoyi', 'Gbagada', 'Egbeda', 'Soluyi-Gbagada', 'Chevron-Lekki',\n",
       "       'Phase2-Magodo', 'Phase2-Gbagada', 'Ikotun', 'Ifako-Gbagada',\n",
       "       'Isolo', 'Alapere-Ketu', 'Ojo', 'Agege', 'Fola-Agoro-Yaba',\n",
       "       'Oregun-Ikeja', 'Ikota-Lekki', 'Ikate-Lekki', 'Ilupeju',\n",
       "       'Phase2-Lekki', 'Oko-Oba-Agege', 'Maryland', 'Mende-Maryland',\n",
       "       'Ikosi-Ketu', 'Abule-Egba', 'Ibeju-Lekki', 'GRA-Ikeja',\n",
       "       'Lagos-Island', 'Akowonjo', 'Apapa', 'Idimu', 'Opebi-Ikeja',\n",
       "       'Igando', 'Oworonshoki-Gbagada', 'Akoka-Yaba', 'Alimosho',\n",
       "       'Sabo-Yaba', 'Agungi-Lekki', 'Oshodi', 'Ayobo', 'Iju-Ishaga-Agege',\n",
       "       'Allen-Avenue-Ikeja', 'Okota', 'Akesan', 'Cement-Agege',\n",
       "       'Phase1-Gbagada', 'Anthony-Village-Maryland', 'Fagba-Agege',\n",
       "       'Shangisha-Ketu', 'Mile12-Ketu', 'Orile-Agege', 'Jibowu-Yaba',\n",
       "       'Ejigbo', 'Adekunle-Yaba', 'Bariga', 'Mushin', 'Epe',\n",
       "       'Abule-Ijesha-Yaba', 'Badagry', 'VGC-Lekki', 'Abule-Oja-Yaba',\n",
       "       'Ebute-Metta-Yaba', 'Iwaya-Yaba', 'Ifako-Agege',\n",
       "       'Ilasamaja-Mushin', 'Marina-Lagos-Island', 'Iganmu-Orile',\n",
       "       'Obalende-Lagos-Island'], dtype=object)"
      ]
     },
     "execution_count": 227,
     "metadata": {},
     "output_type": "execute_result"
    }
   ],
   "source": [
    "eko3['LOCATION'].unique()"
   ]
  },
  {
   "cell_type": "code",
   "execution_count": 228,
   "id": "1a75689d",
   "metadata": {},
   "outputs": [],
   "source": [
    "my_dict = {}"
   ]
  },
  {
   "cell_type": "code",
   "execution_count": 229,
   "id": "a1452bba",
   "metadata": {},
   "outputs": [],
   "source": [
    "for i, y in enumerate(list(eko3['LOCATION'].unique())):\n",
    "    my_dict[y] = i"
   ]
  },
  {
   "cell_type": "code",
   "execution_count": 230,
   "id": "5750dd2c",
   "metadata": {},
   "outputs": [
    {
     "data": {
      "text/plain": [
       "{'Lekki': 0,\n",
       " 'Ikeja': 1,\n",
       " 'Ipaja': 2,\n",
       " 'Ojodu': 3,\n",
       " 'Surulere': 4,\n",
       " 'Onike-Yaba': 5,\n",
       " 'Ketu': 6,\n",
       " 'Phase1-Lekki': 7,\n",
       " 'Shomolu': 8,\n",
       " 'Amuwo-Odofin': 9,\n",
       " 'Ikotun-Igando': 10,\n",
       " 'Ajah': 11,\n",
       " 'Sangotedo': 12,\n",
       " 'Ojota': 13,\n",
       " 'Ogba': 14,\n",
       " 'Ogudu': 15,\n",
       " 'Phase1-Magodo': 16,\n",
       " 'Ikorodu': 17,\n",
       " 'Alagomeji-Yaba': 18,\n",
       " 'Victoria-Island': 19,\n",
       " 'Osapa-London-Lekki': 20,\n",
       " 'Ago-Palace-Okota': 21,\n",
       " 'Medina-Gbagada': 22,\n",
       " 'Yaba': 23,\n",
       " 'Ikoyi': 24,\n",
       " 'Gbagada': 25,\n",
       " 'Egbeda': 26,\n",
       " 'Soluyi-Gbagada': 27,\n",
       " 'Chevron-Lekki': 28,\n",
       " 'Phase2-Magodo': 29,\n",
       " 'Phase2-Gbagada': 30,\n",
       " 'Ikotun': 31,\n",
       " 'Ifako-Gbagada': 32,\n",
       " 'Isolo': 33,\n",
       " 'Alapere-Ketu': 34,\n",
       " 'Ojo': 35,\n",
       " 'Agege': 36,\n",
       " 'Fola-Agoro-Yaba': 37,\n",
       " 'Oregun-Ikeja': 38,\n",
       " 'Ikota-Lekki': 39,\n",
       " 'Ikate-Lekki': 40,\n",
       " 'Ilupeju': 41,\n",
       " 'Phase2-Lekki': 42,\n",
       " 'Oko-Oba-Agege': 43,\n",
       " 'Maryland': 44,\n",
       " 'Mende-Maryland': 45,\n",
       " 'Ikosi-Ketu': 46,\n",
       " 'Abule-Egba': 47,\n",
       " 'Ibeju-Lekki': 48,\n",
       " 'GRA-Ikeja': 49,\n",
       " 'Lagos-Island': 50,\n",
       " 'Akowonjo': 51,\n",
       " 'Apapa': 52,\n",
       " 'Idimu': 53,\n",
       " 'Opebi-Ikeja': 54,\n",
       " 'Igando': 55,\n",
       " 'Oworonshoki-Gbagada': 56,\n",
       " 'Akoka-Yaba': 57,\n",
       " 'Alimosho': 58,\n",
       " 'Sabo-Yaba': 59,\n",
       " 'Agungi-Lekki': 60,\n",
       " 'Oshodi': 61,\n",
       " 'Ayobo': 62,\n",
       " 'Iju-Ishaga-Agege': 63,\n",
       " 'Allen-Avenue-Ikeja': 64,\n",
       " 'Okota': 65,\n",
       " 'Akesan': 66,\n",
       " 'Cement-Agege': 67,\n",
       " 'Phase1-Gbagada': 68,\n",
       " 'Anthony-Village-Maryland': 69,\n",
       " 'Fagba-Agege': 70,\n",
       " 'Shangisha-Ketu': 71,\n",
       " 'Mile12-Ketu': 72,\n",
       " 'Orile-Agege': 73,\n",
       " 'Jibowu-Yaba': 74,\n",
       " 'Ejigbo': 75,\n",
       " 'Adekunle-Yaba': 76,\n",
       " 'Bariga': 77,\n",
       " 'Mushin': 78,\n",
       " 'Epe': 79,\n",
       " 'Abule-Ijesha-Yaba': 80,\n",
       " 'Badagry': 81,\n",
       " 'VGC-Lekki': 82,\n",
       " 'Abule-Oja-Yaba': 83,\n",
       " 'Ebute-Metta-Yaba': 84,\n",
       " 'Iwaya-Yaba': 85,\n",
       " 'Ifako-Agege': 86,\n",
       " 'Ilasamaja-Mushin': 87,\n",
       " 'Marina-Lagos-Island': 88,\n",
       " 'Iganmu-Orile': 89,\n",
       " 'Obalende-Lagos-Island': 90}"
      ]
     },
     "execution_count": 230,
     "metadata": {},
     "output_type": "execute_result"
    }
   ],
   "source": [
    "my_dict"
   ]
  },
  {
   "cell_type": "code",
   "execution_count": 231,
   "id": "9ba43fa5",
   "metadata": {},
   "outputs": [],
   "source": [
    "location_dict = my_dict"
   ]
  },
  {
   "cell_type": "code",
   "execution_count": 232,
   "id": "9fc45ec0",
   "metadata": {},
   "outputs": [],
   "source": [
    "new_dict = eko3['HOUSE_TYPE'].value_counts().to_dict()"
   ]
  },
  {
   "cell_type": "code",
   "execution_count": 233,
   "id": "12419512",
   "metadata": {},
   "outputs": [
    {
     "data": {
      "text/plain": [
       "{'FLAT': 49726, 'HOUSE': 11958, 'DUPLEX': 5035, 'BUNGALOW': 399}"
      ]
     },
     "execution_count": 233,
     "metadata": {},
     "output_type": "execute_result"
    }
   ],
   "source": [
    "new_dict"
   ]
  },
  {
   "cell_type": "code",
   "execution_count": 234,
   "id": "74f269d8",
   "metadata": {},
   "outputs": [],
   "source": [
    "house_dict = {'FLAT': 1, 'HOUSE':2, 'DUPLEX':3, 'BUNGALOW':4}"
   ]
  },
  {
   "cell_type": "code",
   "execution_count": 235,
   "id": "abc0d64f",
   "metadata": {},
   "outputs": [],
   "source": [
    "eko3[\"HOUSE_TYPE\"] = eko3.HOUSE_TYPE.map(house_dict)\n",
    "eko3[\"LOCATION\"] = eko3.LOCATION.map(location_dict)"
   ]
  },
  {
   "cell_type": "code",
   "execution_count": 236,
   "id": "de633602",
   "metadata": {},
   "outputs": [
    {
     "data": {
      "text/html": [
       "<div>\n",
       "<style scoped>\n",
       "    .dataframe tbody tr th:only-of-type {\n",
       "        vertical-align: middle;\n",
       "    }\n",
       "\n",
       "    .dataframe tbody tr th {\n",
       "        vertical-align: top;\n",
       "    }\n",
       "\n",
       "    .dataframe thead th {\n",
       "        text-align: right;\n",
       "    }\n",
       "</style>\n",
       "<table border=\"1\" class=\"dataframe\">\n",
       "  <thead>\n",
       "    <tr style=\"text-align: right;\">\n",
       "      <th></th>\n",
       "      <th>LOCATION</th>\n",
       "      <th>PRICE</th>\n",
       "      <th>DATE ADDED</th>\n",
       "      <th>BEDROOMS</th>\n",
       "      <th>BATHROOMS</th>\n",
       "      <th>TOILETS</th>\n",
       "      <th>HOUSE_TYPE</th>\n",
       "      <th>ISLAND</th>\n",
       "    </tr>\n",
       "  </thead>\n",
       "  <tbody>\n",
       "    <tr>\n",
       "      <th>0</th>\n",
       "      <td>0</td>\n",
       "      <td>5000000.0</td>\n",
       "      <td>2022-01-13</td>\n",
       "      <td>4</td>\n",
       "      <td>4</td>\n",
       "      <td>4</td>\n",
       "      <td>3</td>\n",
       "      <td>1</td>\n",
       "    </tr>\n",
       "    <tr>\n",
       "      <th>1</th>\n",
       "      <td>0</td>\n",
       "      <td>7500000.0</td>\n",
       "      <td>2021-12-09</td>\n",
       "      <td>4</td>\n",
       "      <td>4</td>\n",
       "      <td>4</td>\n",
       "      <td>2</td>\n",
       "      <td>1</td>\n",
       "    </tr>\n",
       "    <tr>\n",
       "      <th>2</th>\n",
       "      <td>1</td>\n",
       "      <td>4000000.0</td>\n",
       "      <td>2017-11-24</td>\n",
       "      <td>4</td>\n",
       "      <td>4</td>\n",
       "      <td>5</td>\n",
       "      <td>2</td>\n",
       "      <td>0</td>\n",
       "    </tr>\n",
       "    <tr>\n",
       "      <th>3</th>\n",
       "      <td>2</td>\n",
       "      <td>450000.0</td>\n",
       "      <td>2022-08-08</td>\n",
       "      <td>2</td>\n",
       "      <td>1</td>\n",
       "      <td>2</td>\n",
       "      <td>1</td>\n",
       "      <td>0</td>\n",
       "    </tr>\n",
       "    <tr>\n",
       "      <th>4</th>\n",
       "      <td>0</td>\n",
       "      <td>3000000.0</td>\n",
       "      <td>2021-08-01</td>\n",
       "      <td>4</td>\n",
       "      <td>4</td>\n",
       "      <td>5</td>\n",
       "      <td>3</td>\n",
       "      <td>1</td>\n",
       "    </tr>\n",
       "  </tbody>\n",
       "</table>\n",
       "</div>"
      ],
      "text/plain": [
       "   LOCATION      PRICE  DATE ADDED  BEDROOMS  BATHROOMS  TOILETS  HOUSE_TYPE  \\\n",
       "0         0  5000000.0  2022-01-13         4          4        4           3   \n",
       "1         0  7500000.0  2021-12-09         4          4        4           2   \n",
       "2         1  4000000.0  2017-11-24         4          4        5           2   \n",
       "3         2   450000.0  2022-08-08         2          1        2           1   \n",
       "4         0  3000000.0  2021-08-01         4          4        5           3   \n",
       "\n",
       "   ISLAND  \n",
       "0       1  \n",
       "1       1  \n",
       "2       0  \n",
       "3       0  \n",
       "4       1  "
      ]
     },
     "execution_count": 236,
     "metadata": {},
     "output_type": "execute_result"
    }
   ],
   "source": [
    "eko3.head()"
   ]
  },
  {
   "cell_type": "markdown",
   "id": "d007af2b",
   "metadata": {},
   "source": [
    "### Machine Learning"
   ]
  },
  {
   "cell_type": "code",
   "execution_count": 241,
   "id": "200f36e2",
   "metadata": {},
   "outputs": [],
   "source": [
    "x = eko3[['LOCATION', 'BEDROOMS', 'BATHROOMS', 'TOILETS', 'HOUSE_TYPE', 'ISLAND']]\n",
    "y = eko3['PRICE']\n",
    "\n",
    "# Split the data into training, validation, and test sets\n",
    "x_train_val, x_test, y_train_val, y_test = train_test_split(x, y, test_size=0.2, random_state=0)\n",
    "x_train, x_val, y_train, y_val = train_test_split(x_train_val, y_train_val, test_size=0.25, random_state=0)"
   ]
  },
  {
   "cell_type": "markdown",
   "id": "f1e0915d",
   "metadata": {},
   "source": [
    "#### Linear Regression"
   ]
  },
  {
   "cell_type": "code",
   "execution_count": 242,
   "id": "4b4a7ebb",
   "metadata": {},
   "outputs": [
    {
     "name": "stdout",
     "output_type": "stream",
     "text": [
      "Linear Regression:\n",
      "Validation Mean Squared Error: 2127772754121.524\n",
      "Validation R-squared: 0.4843964067790688\n"
     ]
    }
   ],
   "source": [
    "# Initialize the Linear Regression model\n",
    "linear_model = LinearRegression()\n",
    "\n",
    "# Train the model\n",
    "linear_model.fit(x_train, y_train)\n",
    "\n",
    "# Make predictions on the validation set\n",
    "y_val_pred_linear = linear_model.predict(x_val)\n",
    "\n",
    "# Evaluate the model on the validation set\n",
    "mse_val_linear = mean_squared_error(y_val, y_val_pred_linear)\n",
    "r2_val_linear = r2_score(y_val, y_val_pred_linear)\n",
    "\n",
    "print(\"Linear Regression:\")\n",
    "print(f\"Validation Mean Squared Error: {mse_val_linear}\")\n",
    "print(f\"Validation R-squared: {r2_val_linear}\")"
   ]
  },
  {
   "cell_type": "markdown",
   "id": "015c8dd1",
   "metadata": {},
   "source": [
    "#### XGBoost"
   ]
  },
  {
   "cell_type": "code",
   "execution_count": 243,
   "id": "8024b156",
   "metadata": {},
   "outputs": [
    {
     "name": "stdout",
     "output_type": "stream",
     "text": [
      "XGBoost:\n",
      "Validation Mean Squared Error: 1053969551218.2012\n",
      "Validation R-squared: 0.7446012565482264\n"
     ]
    }
   ],
   "source": [
    "from xgboost import XGBRegressor\n",
    "\n",
    "# Initialize the XGBoost model\n",
    "xgboost_model = XGBRegressor()\n",
    "\n",
    "# Train the model\n",
    "xgboost_model.fit(x_train, y_train)\n",
    "\n",
    "# Make predictions on the validation set\n",
    "y_val_pred_xgboost = xgboost_model.predict(x_val)\n",
    "\n",
    "# Evaluate the model on the validation set\n",
    "mse_val_xgboost = mean_squared_error(y_val, y_val_pred_xgboost)\n",
    "r2_val_xgboost = r2_score(y_val, y_val_pred_xgboost)\n",
    "\n",
    "print(\"XGBoost:\")\n",
    "print(f\"Validation Mean Squared Error: {mse_val_xgboost}\")\n",
    "print(f\"Validation R-squared: {r2_val_xgboost}\")"
   ]
  },
  {
   "cell_type": "markdown",
   "id": "257f98a6",
   "metadata": {},
   "source": [
    "#### Decision Tree"
   ]
  },
  {
   "cell_type": "code",
   "execution_count": 244,
   "id": "cce2d14e",
   "metadata": {},
   "outputs": [
    {
     "name": "stdout",
     "output_type": "stream",
     "text": [
      "Decision Tree:\n",
      "Validation Mean Squared Error: 1126543581119.8596\n",
      "Validation R-squared: 0.7270150596579164\n"
     ]
    }
   ],
   "source": [
    "# Initialize the Decision Tree model\n",
    "decision_tree_model = DecisionTreeRegressor()\n",
    "\n",
    "# Train the model\n",
    "decision_tree_model.fit(x_train, y_train)\n",
    "\n",
    "# Make predictions on the validation set\n",
    "y_val_pred_dt = decision_tree_model.predict(x_val)\n",
    "\n",
    "# Evaluate the model on the validation set\n",
    "mse_val_dt = mean_squared_error(y_val, y_val_pred_dt)\n",
    "r2_val_dt = r2_score(y_val, y_val_pred_dt)\n",
    "\n",
    "print(\"Decision Tree:\")\n",
    "print(f\"Validation Mean Squared Error: {mse_val_dt}\")\n",
    "print(f\"Validation R-squared: {r2_val_dt}\")"
   ]
  },
  {
   "cell_type": "markdown",
   "id": "8a4fb7a6",
   "metadata": {},
   "source": [
    "#### Random Forest"
   ]
  },
  {
   "cell_type": "code",
   "execution_count": 245,
   "id": "e9baa314",
   "metadata": {},
   "outputs": [
    {
     "name": "stdout",
     "output_type": "stream",
     "text": [
      "Random Forest:\n",
      "Validation Mean Squared Error: 1072810593628.8113\n",
      "Validation R-squared: 0.7400356801030343\n"
     ]
    }
   ],
   "source": [
    "# Initialize the Random Forest model\n",
    "random_forest_model = RandomForestRegressor()\n",
    "\n",
    "# Train the model\n",
    "random_forest_model.fit(x_train, y_train)\n",
    "\n",
    "# Make predictions on the validation set\n",
    "y_val_pred_rf = random_forest_model.predict(x_val)\n",
    "\n",
    "# Evaluate the model on the validation set\n",
    "mse_val_rf = mean_squared_error(y_val, y_val_pred_rf)\n",
    "r2_val_rf = r2_score(y_val, y_val_pred_rf)\n",
    "\n",
    "print(\"Random Forest:\")\n",
    "print(f\"Validation Mean Squared Error: {mse_val_rf}\")\n",
    "print(f\"Validation R-squared: {r2_val_rf}\")"
   ]
  },
  {
   "cell_type": "markdown",
   "id": "18594ac7",
   "metadata": {},
   "source": [
    "#### Nearest Neigbour Regressor"
   ]
  },
  {
   "cell_type": "code",
   "execution_count": 246,
   "id": "95f796fe",
   "metadata": {},
   "outputs": [
    {
     "name": "stdout",
     "output_type": "stream",
     "text": [
      "k-Nearest Neighbors:\n",
      "Validation Mean Squared Error: 1205550052024.2817\n",
      "Validation R-squared: 0.7078701485262558\n"
     ]
    }
   ],
   "source": [
    "from sklearn.neighbors import KNeighborsRegressor\n",
    "\n",
    "# Initialize the k-Nearest Neighbors model\n",
    "knn_model = KNeighborsRegressor()\n",
    "\n",
    "# Train the model\n",
    "knn_model.fit(x_train, y_train)\n",
    "\n",
    "# Make predictions on the validation set\n",
    "y_val_pred_knn = knn_model.predict(x_val)\n",
    "\n",
    "# Evaluate the model on the validation set\n",
    "mse_val_knn = mean_squared_error(y_val, y_val_pred_knn)\n",
    "r2_val_knn = r2_score(y_val, y_val_pred_knn)\n",
    "\n",
    "print(\"k-Nearest Neighbors:\")\n",
    "print(f\"Validation Mean Squared Error: {mse_val_knn}\")\n",
    "print(f\"Validation R-squared: {r2_val_knn}\")"
   ]
  },
  {
   "cell_type": "markdown",
   "id": "8e129f9f",
   "metadata": {},
   "source": [
    "#### Ridge Regression"
   ]
  },
  {
   "cell_type": "code",
   "execution_count": 247,
   "id": "264bb75b",
   "metadata": {},
   "outputs": [
    {
     "name": "stdout",
     "output_type": "stream",
     "text": [
      "Ridge Regression:\n",
      "Validation Mean Squared Error: 2127771567509.2563\n",
      "Validation R-squared: 0.4843966943199012\n"
     ]
    }
   ],
   "source": [
    "# Initialize the Ridge Regression model\n",
    "ridge_model = Ridge()\n",
    "\n",
    "# Train the model\n",
    "ridge_model.fit(x_train, y_train)\n",
    "\n",
    "# Make predictions on the validation set\n",
    "y_val_pred_ridge = ridge_model.predict(x_val)\n",
    "\n",
    "# Evaluate the model on the validation set\n",
    "mse_val_ridge = mean_squared_error(y_val, y_val_pred_ridge)\n",
    "r2_val_ridge = r2_score(y_val, y_val_pred_ridge)\n",
    "\n",
    "print(\"Ridge Regression:\")\n",
    "print(f\"Validation Mean Squared Error: {mse_val_ridge}\")\n",
    "print(f\"Validation R-squared: {r2_val_ridge}\")"
   ]
  },
  {
   "cell_type": "code",
   "execution_count": 248,
   "id": "29cbe2fb",
   "metadata": {},
   "outputs": [
    {
     "name": "stdout",
     "output_type": "stream",
     "text": [
      "Linear Regression Mean Squared Error: 2127772754121.524\n",
      "Linear Regression R-squared: 0.4843964067790688\n",
      "Ridge Regression Mean Squared Error: 2127771567509.2563\n",
      "Ridge Regression R-squared: 0.4843966943199012\n",
      "Random Forest Mean Squared Error: 1072810593628.8113\n",
      "Random Forest R-squared: 0.7400356801030343\n",
      "XGBoost Mean Squared Error: 1053969551218.2012\n",
      "XGBoost R-squared: 0.7446012565482264\n",
      "Decision Tree Mean Squared Error: 1126543581119.8596\n",
      "Decision Tree R-squared: 0.7270150596579164\n",
      "KNN Mean Squared Error: 1205550052024.2817\n",
      "KNN R-squared: 0.7078701485262558\n"
     ]
    }
   ],
   "source": [
    "def evaluate_model(model, x, y, set_name):\n",
    "    y_pred = model.predict(x)\n",
    "    mse = mean_squared_error(y, y_pred)\n",
    "    r2 = r2_score(y, y_pred)\n",
    "    print(f\"{set_name} Mean Squared Error: {mse}\")\n",
    "    print(f\"{set_name} R-squared: {r2}\")\n",
    "\n",
    "# Evaluate models on the validation set\n",
    "evaluate_model(linear_model, x_val, y_val, \"Linear Regression\")\n",
    "evaluate_model(ridge_model, x_val, y_val, \"Ridge Regression\")\n",
    "evaluate_model(random_forest_model, x_val, y_val, \"Random Forest\")\n",
    "evaluate_model(xgboost_model, x_val, y_val, \"XGBoost\")\n",
    "evaluate_model(decision_tree_model, x_val, y_val, \"Decision Tree\")\n",
    "evaluate_model(knn_model, x_val, y_val, \"KNN\")"
   ]
  },
  {
   "cell_type": "markdown",
   "id": "4dfb605f",
   "metadata": {},
   "source": [
    "### Model Improvement"
   ]
  },
  {
   "cell_type": "code",
   "execution_count": 249,
   "id": "33936e3f",
   "metadata": {},
   "outputs": [
    {
     "name": "stdout",
     "output_type": "stream",
     "text": [
      "Fitting 5 folds for each of 108 candidates, totalling 540 fits\n",
      "Best XGBoost Model:\n",
      "Test Mean Squared Error: 1112180666495.5332\n",
      "Test R-squared: 0.734193863305584\n"
     ]
    }
   ],
   "source": [
    "from xgboost import XGBRegressor\n",
    "from sklearn.model_selection import GridSearchCV\n",
    "\n",
    "# Initialize the XGBoost model\n",
    "xgboost_model = XGBRegressor()\n",
    "\n",
    "# Define a grid of hyperparameter values to search\n",
    "param_grid = {\n",
    "    'n_estimators': [50, 100, 200],\n",
    "    'learning_rate': [0.01, 0.1, 0.2],\n",
    "    'max_depth': [3, 5, 7],\n",
    "    'subsample': [0.8, 1.0],\n",
    "    'colsample_bytree': [0.8, 1.0],\n",
    "}\n",
    "\n",
    "# Initialize GridSearchCV\n",
    "grid_search = GridSearchCV(xgboost_model, param_grid, cv=5, scoring='neg_mean_squared_error', verbose=1)\n",
    "\n",
    "# Perform grid search to find the best hyperparameters\n",
    "grid_search.fit(x_train_val, y_train_val)\n",
    "\n",
    "# Get the best hyperparameters\n",
    "best_params = grid_search.best_params_\n",
    "\n",
    "# Re-initialize the XGBoost model with the best hyperparameters\n",
    "best_xgboost_model = XGBRegressor(**best_params)\n",
    "\n",
    "# Train the model with the best hyperparameters on the entire training-validation set\n",
    "best_xgboost_model.fit(x_train_val, y_train_val)\n",
    "\n",
    "# Make predictions on the test set\n",
    "y_test_pred_xgboost = best_xgboost_model.predict(x_test)\n",
    "\n",
    "# Evaluate the model on the test set\n",
    "mse_test_xgboost = mean_squared_error(y_test, y_test_pred_xgboost)\n",
    "r2_test_xgboost = r2_score(y_test, y_test_pred_xgboost)\n",
    "\n",
    "print(\"Best XGBoost Model:\")\n",
    "print(f\"Test Mean Squared Error: {mse_test_xgboost}\")\n",
    "print(f\"Test R-squared: {r2_test_xgboost}\")"
   ]
  },
  {
   "cell_type": "code",
   "execution_count": 254,
   "id": "e1ee670a",
   "metadata": {},
   "outputs": [
    {
     "name": "stdout",
     "output_type": "stream",
     "text": [
      "Best Hyperparameters: {'colsample_bytree': 0.8, 'learning_rate': 0.1, 'max_depth': 5, 'n_estimators': 300, 'subsample': 1.0}\n",
      "XGBoost with Hyperparameter Tuning:\n",
      "Validation Mean Squared Error: 1043106590829.1779\n",
      "Validation R-squared: 0.7472335777858905\n"
     ]
    }
   ],
   "source": [
    "from xgboost import XGBRegressor\n",
    "from sklearn.model_selection import GridSearchCV\n",
    "from sklearn.metrics import mean_squared_error, r2_score\n",
    "\n",
    "# Define the XGBoost model\n",
    "xgboost_model = XGBRegressor()\n",
    "\n",
    "# Define the hyperparameter grid for grid search\n",
    "param_grid = {\n",
    "    'learning_rate': [0.01, 0.1, 0.2],\n",
    "    'max_depth': [3, 4, 5],\n",
    "    'n_estimators': [100, 200, 300],\n",
    "    'subsample': [0.8, 0.9, 1.0],\n",
    "    'colsample_bytree': [0.8, 0.9, 1.0],\n",
    "}\n",
    "\n",
    "# Initialize GridSearchCV\n",
    "grid_search = GridSearchCV(estimator=xgboost_model, param_grid=param_grid, scoring='neg_mean_squared_error', cv=5, n_jobs=-1)\n",
    "\n",
    "# Perform grid search to find the best hyperparameters\n",
    "grid_search.fit(x_train, y_train)\n",
    "\n",
    "# Get the best hyperparameters\n",
    "best_params = grid_search.best_params_\n",
    "print(\"Best Hyperparameters:\", best_params)\n",
    "\n",
    "# Re-initialize the XGBoost model with the best hyperparameters\n",
    "best_xgboost_model = XGBRegressor(**best_params)\n",
    "\n",
    "# Train the model with the best hyperparameters on the entire training set\n",
    "best_xgboost_model.fit(x_train, y_train)\n",
    "\n",
    "# Make predictions on the validation set\n",
    "y_val_pred_xgboost = best_xgboost_model.predict(x_val)\n",
    "\n",
    "# Evaluate the model on the validation set\n",
    "mse_val_xgboost = mean_squared_error(y_val, y_val_pred_xgboost)\n",
    "r2_val_xgboost = r2_score(y_val, y_val_pred_xgboost)\n",
    "\n",
    "print(\"XGBoost with Hyperparameter Tuning:\")\n",
    "print(f\"Validation Mean Squared Error: {mse_val_xgboost}\")\n",
    "print(f\"Validation R-squared: {r2_val_xgboost}\")"
   ]
  },
  {
   "cell_type": "code",
   "execution_count": 255,
   "id": "f028f06a",
   "metadata": {},
   "outputs": [
    {
     "name": "stdout",
     "output_type": "stream",
     "text": [
      "Untuned XGBoost on Test Set:\n",
      "Test Mean Squared Error: 1121722347016.33\n",
      "Test R-squared: 0.7319134449228433\n"
     ]
    }
   ],
   "source": [
    "from xgboost import XGBRegressor\n",
    "from sklearn.metrics import mean_squared_error, r2_score\n",
    "\n",
    "# Initialize the XGBoost model\n",
    "xgboost_model = XGBRegressor()\n",
    "\n",
    "# Train the untuned model on the training set\n",
    "xgboost_model.fit(x_train, y_train)\n",
    "\n",
    "# Make predictions on the test set\n",
    "y_test_pred_untuned = xgboost_model.predict(x_test)\n",
    "\n",
    "# Evaluate the untuned model on the test set\n",
    "mse_test_untuned = mean_squared_error(y_test, y_test_pred_untuned)\n",
    "r2_test_untuned = r2_score(y_test, y_test_pred_untuned)\n",
    "\n",
    "print(\"Untuned XGBoost on Test Set:\")\n",
    "print(f\"Test Mean Squared Error: {mse_test_untuned}\")\n",
    "print(f\"Test R-squared: {r2_test_untuned}\")"
   ]
  },
  {
   "cell_type": "code",
   "execution_count": 256,
   "id": "f2e83067",
   "metadata": {},
   "outputs": [
    {
     "name": "stdout",
     "output_type": "stream",
     "text": [
      "Hyperparameter-Tuned XGBoost on Validation Set:\n",
      "Validation Mean Squared Error: 938590993659.2649\n",
      "Validation R-squared: 0.7725598807682252\n"
     ]
    }
   ],
   "source": [
    "from xgboost import XGBRegressor\n",
    "from sklearn.metrics import mean_squared_error, r2_score\n",
    "\n",
    "# Assume best_params contains the optimal hyperparameters from the hyperparameter tuning process\n",
    "best_xgboost_model = XGBRegressor(**best_params)\n",
    "\n",
    "# Train the hyperparameter-tuned model on the validation set\n",
    "best_xgboost_model.fit(x_val, y_val)\n",
    "\n",
    "# Make predictions on the validation set\n",
    "y_val_pred_tuned = best_xgboost_model.predict(x_val)\n",
    "\n",
    "# Evaluate the hyperparameter-tuned model on the validation set\n",
    "mse_val_tuned = mean_squared_error(y_val, y_val_pred_tuned)\n",
    "r2_val_tuned = r2_score(y_val, y_val_pred_tuned)\n",
    "\n",
    "print(\"Hyperparameter-Tuned XGBoost on Validation Set:\")\n",
    "print(f\"Validation Mean Squared Error: {mse_val_tuned}\")\n",
    "print(f\"Validation R-squared: {r2_val_tuned}\")"
   ]
  },
  {
   "cell_type": "code",
   "execution_count": 258,
   "id": "560cb266",
   "metadata": {},
   "outputs": [
    {
     "data": {
      "text/plain": [
       "['best_xgboost_model.pkl']"
      ]
     },
     "execution_count": 258,
     "metadata": {},
     "output_type": "execute_result"
    }
   ],
   "source": [
    "# Save the trained model to a pickle file using joblib.dump\n",
    "import joblib\n",
    "model_filename = 'best_xgboost_model.pkl'\n",
    "joblib.dump(best_xgboost_model, model_filename)"
   ]
  },
  {
   "cell_type": "code",
   "execution_count": null,
   "id": "d6075020",
   "metadata": {},
   "outputs": [],
   "source": []
  },
  {
   "cell_type": "code",
   "execution_count": null,
   "id": "6add7247",
   "metadata": {},
   "outputs": [],
   "source": []
  }
 ],
 "metadata": {
  "kernelspec": {
   "display_name": "Python 3 (ipykernel)",
   "language": "python",
   "name": "python3"
  },
  "language_info": {
   "codemirror_mode": {
    "name": "ipython",
    "version": 3
   },
   "file_extension": ".py",
   "mimetype": "text/x-python",
   "name": "python",
   "nbconvert_exporter": "python",
   "pygments_lexer": "ipython3",
   "version": "3.11.5"
  }
 },
 "nbformat": 4,
 "nbformat_minor": 5
}
